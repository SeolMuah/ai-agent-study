{
 "cells": [
  {
   "cell_type": "code",
   "execution_count": 1,
   "id": "aa543e05",
   "metadata": {},
   "outputs": [
    {
     "name": "stdout",
     "output_type": "stream",
     "text": [
      "질문: 파이썬에 대해 간단히 설명해주세요.\n",
      "응답: 파이썬은 인터프리터 언어로, 다양한 운영 체제에서 사용할 수 있는 고수준 프로그래밍 언어입니다. 파이썬은 읽기 쉽고 이해하기 쉽며 간결한 문법을 가지고 있어서 학습하기 쉽습니다. 또한 다양한 라이브러리와 모듈이 제공되어 있어서 다양한 프로그래밍 작업을 빠르게 처리할 수 있습니다. 주요 특징으로는 객체지향, 함수형, 동적 타이핑 등을 지원하고 있습니다. 파이썬은 웹 개발, 데이터 분석, 인공지능, 사물인터넷 등 다양한 분야에서 널리 사용되고 있습니다.\n"
     ]
    }
   ],
   "source": [
    "# OpenAI API를 사용하는 간단한 예제\n",
    "# 먼저 필요한 라이브러리를 설치해야 합니다:\n",
    "# pip install python-dotenv openai\n",
    "\n",
    "import os\n",
    "from dotenv import load_dotenv\n",
    "import openai\n",
    "\n",
    "# .env 파일에서 환경 변수 로드\n",
    "load_dotenv()\n",
    "\n",
    "# OpenAI API 키 가져오기\n",
    "api_key = os.getenv(\"OPENAI_API_KEY\")\n",
    "\n",
    "# API 키가 제대로 로드되었는지 확인\n",
    "if not api_key:\n",
    "    raise ValueError(\"OPENAI_API_KEY가 .env 파일에 설정되지 않았습니다.\")\n",
    "\n",
    "# OpenAI 클라이언트 설정\n",
    "client = openai.OpenAI(api_key=api_key)\n",
    "\n",
    "# ChatGPT API 호출하는 함수\n",
    "def get_chat_response(prompt):\n",
    "    try:\n",
    "        response = client.chat.completions.create(\n",
    "            model=\"gpt-3.5-turbo\",  # 원하는 모델로 변경 가능\n",
    "            messages=[\n",
    "                {\"role\": \"system\", \"content\": \"당신은 유용한 도우미입니다.\"},\n",
    "                {\"role\": \"user\", \"content\": prompt}\n",
    "            ]\n",
    "        )\n",
    "        return response.choices[0].message.content\n",
    "    except Exception as e:\n",
    "        return f\"오류 발생: {str(e)}\"\n",
    "\n",
    "# 예제 사용\n",
    "if __name__ == \"__main__\":\n",
    "    user_prompt = \"파이썬에 대해 간단히 설명해주세요.\"\n",
    "    response = get_chat_response(user_prompt)\n",
    "    print(\"질문:\", user_prompt)\n",
    "    print(\"응답:\", response)"
   ]
  }
 ],
 "metadata": {
  "kernelspec": {
   "display_name": "langgraph_basic",
   "language": "python",
   "name": "python3"
  },
  "language_info": {
   "codemirror_mode": {
    "name": "ipython",
    "version": 3
   },
   "file_extension": ".py",
   "mimetype": "text/x-python",
   "name": "python",
   "nbconvert_exporter": "python",
   "pygments_lexer": "ipython3",
   "version": "3.12.9"
  }
 },
 "nbformat": 4,
 "nbformat_minor": 5
}
