{
 "cells": [
  {
   "cell_type": "code",
   "execution_count": 1,
   "id": "e86ce9b2",
   "metadata": {},
   "outputs": [],
   "source": [
    "from langchain_openai import ChatOpenAI\n",
    "from langchain_core.messages import HumanMessage, SystemMessage\n",
    "from langgraph.graph import StateGraph, START, END\n",
    "from langgraph.graph.message import add_messages\n",
    "from typing_extensions import TypedDict\n",
    "from typing import Annotated, List\n",
    "from dotenv import load_dotenv\n",
    "import os"
   ]
  },
  {
   "cell_type": "code",
   "execution_count": 2,
   "id": "0967b33d",
   "metadata": {},
   "outputs": [],
   "source": [
    "load_dotenv()\n",
    "\n",
    "openai_model = os.getenv(\"OPENAI_MODEL\", \"gpt-4o-mini\")"
   ]
  },
  {
   "cell_type": "code",
   "execution_count": 3,
   "id": "fda41138",
   "metadata": {},
   "outputs": [
    {
     "name": "stdout",
     "output_type": "stream",
     "text": [
      "LANGSMITH_TRACING: true\n",
      "LANGSMITH_PROJECT: pr-upbeat-escalator-85\n"
     ]
    }
   ],
   "source": [
    "# LangSmith 설정을 위한 임포트\n",
    "from langsmith import Client\n",
    "\n",
    "# 환경 변수 확인 (디버깅용)\n",
    "# LangSmith 트레이싱이 환경 변수로 활성화되어 있으면 자동으로 작동합니다\n",
    "print(f\"LANGSMITH_TRACING: {os.getenv('LANGSMITH_TRACING')}\")\n",
    "print(f\"LANGSMITH_PROJECT: {os.getenv('LANGSMITH_PROJECT')}\")\n",
    "\n",
    "# LangSmith 클라이언트 초기화\n",
    "client = Client(\n",
    "    api_url=os.getenv(\"LANGSMITH_ENDPOINT\"),\n",
    "    api_key=os.getenv(\"LANGSMITH_API_KEY\")\n",
    ")"
   ]
  },
  {
   "cell_type": "code",
   "execution_count": 4,
   "id": "c9f94395",
   "metadata": {},
   "outputs": [],
   "source": [
    "class State(TypedDict):\n",
    "    messages: Annotated[list, add_messages]"
   ]
  },
  {
   "cell_type": "code",
   "execution_count": 5,
   "id": "4fce297d",
   "metadata": {},
   "outputs": [],
   "source": [
    "from langchain_community.tools.tavily_search import TavilySearchResults\n",
    "\n",
    "search_tool  = TavilySearchResults(max_results=2)\n",
    "# tool.invoke(\"LangGraph에서 '노드'란 무엇인가요?\")"
   ]
  },
  {
   "cell_type": "code",
   "execution_count": 6,
   "id": "8e6b8258",
   "metadata": {},
   "outputs": [],
   "source": [
    "from langchain_core.tools import tool\n",
    "from langgraph.types import interrupt\n",
    "\n",
    "@tool\n",
    "def human_assist(query):\n",
    "    \"\"\"Human assist tool\"\"\"\n",
    "    human_response = interrupt({\"query\": query})\n",
    "    return human_response[\"data\"]"
   ]
  },
  {
   "cell_type": "code",
   "execution_count": 7,
   "id": "432b10b5",
   "metadata": {},
   "outputs": [],
   "source": [
    "llm = ChatOpenAI(model=openai_model)\n",
    "tools = [search_tool, human_assist]\n",
    "llm_with_tools = llm.bind_tools(tools)"
   ]
  },
  {
   "cell_type": "code",
   "execution_count": 8,
   "id": "e0b53d20",
   "metadata": {},
   "outputs": [],
   "source": [
    "def chatbot(state: State):\n",
    "    response = llm_with_tools.invoke(state[\"messages\"])\n",
    "    return {\"messages\": [response]}"
   ]
  },
  {
   "cell_type": "code",
   "execution_count": 9,
   "id": "9504ff1a",
   "metadata": {},
   "outputs": [],
   "source": [
    "from langgraph.checkpoint.memory import MemorySaver\n",
    "\n",
    "memory = MemorySaver()"
   ]
  },
  {
   "cell_type": "code",
   "execution_count": 10,
   "id": "00bbf124",
   "metadata": {},
   "outputs": [],
   "source": [
    "from langgraph.prebuilt import ToolNode, tools_condition\n",
    "\n",
    "tool_node = ToolNode(tools)\n",
    "\n",
    "workflow = StateGraph(State)\n",
    "\n",
    "workflow.add_node(\"chatbot\", chatbot)\n",
    "workflow.add_node(\"tools\", tool_node)\n",
    "workflow.add_conditional_edges(\"chatbot\", tools_condition)\n",
    "workflow.add_edge(\"tools\", \"chatbot\")\n",
    "workflow.add_edge(START, \"chatbot\")\n",
    "\n",
    "graph = workflow.compile(checkpointer=memory)"
   ]
  },
  {
   "cell_type": "code",
   "execution_count": 11,
   "id": "fa64e415",
   "metadata": {},
   "outputs": [
    {
     "data": {
      "image/png": "[encoded data removed]",
      "text/plain": [
       "<IPython.core.display.Image object>"
      ]
     },
     "metadata": {},
     "output_type": "display_data"
    }
   ],
   "source": [
    "from IPython.display import Image, display\n",
    "\n",
    "display(Image(graph.get_graph().draw_mermaid_png()))"
   ]
  },
  {
   "cell_type": "code",
   "execution_count": 12,
   "id": "bcc90406",
   "metadata": {},
   "outputs": [],
   "source": [
    "config = {\"configurable\": {\"thread_id\": \"user123\"}}\n",
    "\n",
    "#config는 워크플로우에 필요한 어떤 정보든 포함시킬 수 있습니다.\n",
    "# config = {\n",
    "#     \"configurable\": {\n",
    "#         \"thread_id\": \"user123\",\n",
    "#         \"user_name\": \"홍길동\",\n",
    "#         \"language_preference\": \"korean\",\n",
    "#         \"session_start_time\": \"2025-04-12T10:30:00\",\n",
    "#         \"model_settings\": {\n",
    "#             \"temperature\": 0.7,\n",
    "#             \"top_p\": 0.95\n",
    "#         },\n",
    "#         \"custom_data\": {\n",
    "#             \"user_preferences\": [\"tech\", \"science\", \"news\"],\n",
    "#             \"subscription_level\": \"premium\"\n",
    "#         }\n",
    "#     }\n",
    "# }"
   ]
  },
  {
   "cell_type": "code",
   "execution_count": 13,
   "id": "ab2e2592",
   "metadata": {},
   "outputs": [
    {
     "name": "stdout",
     "output_type": "stream",
     "text": [
      "LangGraph는 AI 에이전트를 개발하는 데 있어 여러 유용한 특징을 제공합니다. 다음은 주요 특징입니다:\n",
      "\n",
      "1. **자동 상태 관리**: LangGraph는 여러 상호작용에 걸쳐 정보를 추적하고 유지할 수 있는 자동 상태 관리 기능을 제공합니다. 이 기능은 에이전트가 작업을 수행하면서 동적으로 상태를 업데이트할 수 있게 해주어, 시스템이 컨텍스트를 유지하고 새로운 입력에 적절히 반응할 수 있도록 돕습니다.\n",
      "\n",
      "2. **조정(Coordination)**: 여러 에이전트가 올바른 순서로 실행되고 필요 정보를 원활하게 교환할 수 있도록 보장합니다. 이는 복잡한 애플리케이션에서 필수적이며, 개발자가 에이전트 조정의 복잡한 세부 사항보다는 애플리케이션의 고수준 논리에 집중할 수 있게 합니다.\n",
      "\n",
      "3. **개발 간소화**: 상태 관리와 에이전트 조정과 관련된 복잡성을 추상화하여 개발자가 워크플로와 로직을 쉽게 정의할 수 있게 돕습니다. 이로 인해 개발 속도가 높아지고 오류 발생 가능성이 줄어듭니다.\n",
      "\n",
      "4. **유연성**: 개발자는 자신만의 에이전트 로직과 통신 프로토콜을 정의할 수 있는 유연성을 갖게 되어 특정 용도에 맞춘 맞춤형 애플리케이션을 쉽게 만들 수 있습니다.\n",
      "\n",
      "5. **확장성(Scalability)**: LangGraph는 LLM을 사용하여 상태를 유지하고 여러 에이전트를 포함한 애플리케이션을 쉽게 만들 수 있도록 지원합니다. 이는 복잡한 에이전트 런타임 개발에 필수적인 순환 그래프를 만들고 관리할 수 있는 기능을 포함합니다.\n",
      "\n",
      "6. **그래프 구조**: 각 노드는 LLM 에이전트를 나타내며, 각 에이전트 간의 통신 채널은 엣지로 표현됩니다. 이를 통해 각 에이전트가 특정 작업을 수행하고 필요한 정보를 다른 에이전트에 전달하는 명확하고 관리 가능한 워크플로를 구성할 수 있습니다.\n",
      "\n",
      "이러한 특징들을 통해 LangGraph는 복잡한 멀티 에이전트 시스템을 효율적으로 개발하고 유지보수할 수 있도록 도와줍니다.\n"
     ]
    }
   ],
   "source": [
    "user_input1 = \"AI 에이전트 개발을 위한 LangGraph의 특징에 대해 설명해주세요.\"\n",
    "state1 = {\"messages\": [HumanMessage(content=user_input1)]}\n",
    "response1 = graph.invoke(state1, config)\n",
    "\n",
    "print(response1[\"messages\"][-1].content)"
   ]
  },
  {
   "cell_type": "code",
   "execution_count": 14,
   "id": "1d859d6b",
   "metadata": {},
   "outputs": [
    {
     "name": "stdout",
     "output_type": "stream",
     "text": [
      "[HumanMessage(content='AI 에이전트 개발을 위한 LangGraph의 특징에 대해 설명해주세요.', additional_kwargs={}, response_metadata={}, id='1e71a8ce-8475-4c61-ba5a-04feff536834'),\n",
      " AIMessage(content='', additional_kwargs={'tool_calls': [{'id': 'call_kw5nE4KI2vnltxNMK7zfWMz5', 'function': {'arguments': '{\"query\":\"LangGraph AI 에이전트 개발 특징\"}', 'name': 'tavily_search_results_json'}, 'type': 'function'}], 'refusal': None}, response_metadata={'token_usage': {'completion_tokens': 27, 'prompt_tokens': 115, 'total_tokens': 142, 'completion_tokens_details': {'accepted_prediction_tokens': 0, 'audio_tokens': 0, 'reasoning_tokens': 0, 'rejected_prediction_tokens': 0}, 'prompt_tokens_details': {'audio_tokens': 0, 'cached_tokens': 0}}, 'model_name': 'gpt-4o-mini-2024-07-18', 'system_fingerprint': 'fp_44added55e', 'id': 'chatcmpl-BLOorp7WhQsDVVjhdTpJGUjoMz0je', 'finish_reason': 'tool_calls', 'logprobs': None}, id='run-fd4ee3f8-4bf2-4f63-9a61-42eb9c01b938-0', tool_calls=[{'name': 'tavily_search_results_json', 'args': {'query': 'LangGraph AI 에이전트 개발 특징'}, 'id': 'call_kw5nE4KI2vnltxNMK7zfWMz5', 'type': 'tool_call'}], usage_metadata={'input_tokens': 115, 'output_tokens': 27, 'total_tokens': 142, 'input_token_details': {'audio': 0, 'cache_read': 0}, 'output_token_details': {'audio': 0, 'reasoning': 0}}),\n",
      " ToolMessage(content='[{\"title\": \"LangGraph) LangGraph에 대한 개념과 간단한 예시 만들어보기\", \"url\": \"https://data-newbie.tistory.com/997\", \"content\": \"LangGraph의\\xa0두드러진\\xa0특징\\xa0중\\xa0하나는\\xa0자동\\xa0상태\\xa0관리\\xa0기능입니다.\\xa0이\\xa0기능을\\xa0통해\\xa0여러\\xa0상호작용에\\xa0걸쳐\\xa0정보를\\xa0추적하고\\xa0유지할\\xa0수\\xa0있습니다.\\xa0에이전트가\\xa0작업을\\xa0수행함에\\xa0따라\\xa0상태가\\xa0동적으로\\xa0업데이트되어\\xa0시스템이\\xa0컨텍스트를\\xa0유지하고\\xa0새로운\\xa0입력에\\xa0적절히\\xa0반응할\\xa0수\\xa0있습니다.\\\\n이게 특히 좋은 것이 기존에 llm chain에서 하려고 하면 runnable 로 계속 감싸고 감싸는 구조를 만들었던 기억이 있는데, 이렇게 관리를 해준다는 게 너무 좋은 것 같습니다.\\\\nCoordination\\\\nLangGraph는\\xa0에이전트가\\xa0올바른\\xa0순서로\\xa0실행되고\\xa0필요한\\xa0정보가\\xa0원활하게\\xa0교환되도록\\xa0보장합니다.\\xa0이는\\xa0여러\\xa0에이전트가\\xa0협력하여\\xa0공동의\\xa0목표를\\xa0달성해야\\xa0하는\\xa0복잡한\\xa0애플리케이션에서\\xa0필수적입니다.\\xa0데이터\\xa0흐름과\\xa0작업\\xa0순서를\\xa0관리함으로써\\xa0LangGraph는\\xa0개발자가\\xa0에이전트\\xa0조정의\\xa0복잡한\\xa0세부\\xa0사항보다는\\xa0애플리케이션의\\xa0고수준\\xa0논리에\\xa0집중할\\xa0수\\xa0있게\\xa0합니다.\\\\n왜 써야 하는가? [...] Simplified\\xa0development\\\\nLangGraph는\\xa0상태\\xa0관리\\xa0및\\xa0에이전트\\xa0조정과\\xa0관련된\\xa0복잡성을\\xa0추상화합니다.\\xa0따라서\\xa0개발자는\\xa0데이터\\xa0일관성과\\xa0올바른\\xa0실행\\xa0순서를\\xa0보장하는\\xa0기본\\xa0메커니즘에\\xa0대해\\xa0걱정하지\\xa0않고\\xa0워크플로와\\xa0로직을\\xa0정의할\\xa0수\\xa0있습니다.\\xa0이러한\\xa0간소화는\\xa0개발\\xa0속도를\\xa0높이고\\xa0오류\\xa0발생\\xa0가능성을\\xa0줄여줍니다.\\xa0정말\\xa0혁신적입니다!\\\\n아직 익숙하지 않지만, 익숙해지면 편리할 것 같은 구조인 것 같습니다.\\\\nFlexibility\\\\nLangGraph를\\xa0사용하면\\xa0개발자는\\xa0자신의\\xa0에이전트\\xa0로직과\\xa0통신\\xa0프로토콜을\\xa0정의할\\xa0수\\xa0있는\\xa0유연성을\\xa0갖게\\xa0됩니다.\\xa0이를\\xa0통해\\xa0특정\\xa0용도에\\xa0맞춘\\xa0맞춤형\\xa0애플리케이션을\\xa0쉽게\\xa0만들\\xa0수\\xa0있습니다.\\xa0다양한\\xa0유형의\\xa0사용자\\xa0요청을\\xa0처리할\\xa0수\\xa0있는\\xa0챗봇이\\xa0필요하든,\\xa0복잡한\\xa0작업을\\xa0수행하는\\xa0멀티\\xa0에이전트\\xa0시스템이\\xa0필요하든,\\xa0LangGraph는\\xa0필요한\\xa0도구를\\xa0제공합니다.\\xa0창의력을\\xa0마음껏\\xa0발휘할\\xa0수\\xa0있습니다.\\\\nScalability [...] LangGraph는\\xa0LLM을\\xa0사용하여\\xa0상태를\\xa0유지하고\\xa0여러\\xa0에이전트를\\xa0포함한\\xa0애플리케이션을\\xa0쉽게\\xa0만들\\xa0수\\xa0있도록\\xa0도와줍니다.\\xa0이\\xa0도구는\\xa0LangChain의\\xa0기능을\\xa0확장하여,\\xa0복잡한\\xa0에이전트\\xa0런타임\\xa0개발에\\xa0필수적인\\xa0순환\\xa0그래프를\\xa0만들고\\xa0관리할\\xa0수\\xa0있는\\xa0기능을\\xa0추가합니다.\\xa0LangGraph의\\xa0핵심\\xa0개념에는\\xa0그래프\\xa0구조,\\xa0상태\\xa0관리\\xa0및\\xa0조정이\\xa0포함됩니다.\\\\nGraph\\xa0structure\\\\nLangGraph에서는 각 노드가 LLM 에이전트를 나타내고, edge는 이 에이전트들 간의 통신 채널입니다.\\\\n이 구조는 각 에이전트가 특정 작업을 수행하고 필요에 따라 다른 에이전트에 정보를 전달하는 명확하고 관리 가능한 워크플로를 허용합니다.\\\\nState\\xa0management\", \"score\": 0.8682137}, {\"title\": \"랭그래프란? LangGraph 쉬운설명 - AI 알리미\", \"url\": \"https://ai-inform.tistory.com/entry/%EB%9E%AD%EA%B7%B8%EB%9E%98%ED%94%84%EB%9E%80-LangGraph-%EC%89%AC%EC%9A%B4%EC%84%A4%EB%AA%85\", \"content\": \"랭그래프는 다음과 같은 장점을 제공합니다. 효율적인 개발. 복잡한 멀티 에이전트 시스템을 쉽고 빠르게 개발할 수 있도록 도와줍니다. 유지보수 용이성.\", \"score\": 0.79522943}]', name='tavily_search_results_json', id='3f863947-1b96-40b4-9c20-828aba9909c1', tool_call_id='call_kw5nE4KI2vnltxNMK7zfWMz5', artifact={'query': 'LangGraph AI 에이전트 개발 특징', 'follow_up_questions': None, 'answer': None, 'images': [], 'results': [{'url': 'https://data-newbie.tistory.com/997', 'title': 'LangGraph) LangGraph에 대한 개념과 간단한 예시 만들어보기', 'content': 'LangGraph의\\xa0두드러진\\xa0특징\\xa0중\\xa0하나는\\xa0자동\\xa0상태\\xa0관리\\xa0기능입니다.\\xa0이\\xa0기능을\\xa0통해\\xa0여러\\xa0상호작용에\\xa0걸쳐\\xa0정보를\\xa0추적하고\\xa0유지할\\xa0수\\xa0있습니다.\\xa0에이전트가\\xa0작업을\\xa0수행함에\\xa0따라\\xa0상태가\\xa0동적으로\\xa0업데이트되어\\xa0시스템이\\xa0컨텍스트를\\xa0유지하고\\xa0새로운\\xa0입력에\\xa0적절히\\xa0반응할\\xa0수\\xa0있습니다.\\n이게 특히 좋은 것이 기존에 llm chain에서 하려고 하면 runnable 로 계속 감싸고 감싸는 구조를 만들었던 기억이 있는데, 이렇게 관리를 해준다는 게 너무 좋은 것 같습니다.\\nCoordination\\nLangGraph는\\xa0에이전트가\\xa0올바른\\xa0순서로\\xa0실행되고\\xa0필요한\\xa0정보가\\xa0원활하게\\xa0교환되도록\\xa0보장합니다.\\xa0이는\\xa0여러\\xa0에이전트가\\xa0협력하여\\xa0공동의\\xa0목표를\\xa0달성해야\\xa0하는\\xa0복잡한\\xa0애플리케이션에서\\xa0필수적입니다.\\xa0데이터\\xa0흐름과\\xa0작업\\xa0순서를\\xa0관리함으로써\\xa0LangGraph는\\xa0개발자가\\xa0에이전트\\xa0조정의\\xa0복잡한\\xa0세부\\xa0사항보다는\\xa0애플리케이션의\\xa0고수준\\xa0논리에\\xa0집중할\\xa0수\\xa0있게\\xa0합니다.\\n왜 써야 하는가? [...] Simplified\\xa0development\\nLangGraph는\\xa0상태\\xa0관리\\xa0및\\xa0에이전트\\xa0조정과\\xa0관련된\\xa0복잡성을\\xa0추상화합니다.\\xa0따라서\\xa0개발자는\\xa0데이터\\xa0일관성과\\xa0올바른\\xa0실행\\xa0순서를\\xa0보장하는\\xa0기본\\xa0메커니즘에\\xa0대해\\xa0걱정하지\\xa0않고\\xa0워크플로와\\xa0로직을\\xa0정의할\\xa0수\\xa0있습니다.\\xa0이러한\\xa0간소화는\\xa0개발\\xa0속도를\\xa0높이고\\xa0오류\\xa0발생\\xa0가능성을\\xa0줄여줍니다.\\xa0정말\\xa0혁신적입니다!\\n아직 익숙하지 않지만, 익숙해지면 편리할 것 같은 구조인 것 같습니다.\\nFlexibility\\nLangGraph를\\xa0사용하면\\xa0개발자는\\xa0자신의\\xa0에이전트\\xa0로직과\\xa0통신\\xa0프로토콜을\\xa0정의할\\xa0수\\xa0있는\\xa0유연성을\\xa0갖게\\xa0됩니다.\\xa0이를\\xa0통해\\xa0특정\\xa0용도에\\xa0맞춘\\xa0맞춤형\\xa0애플리케이션을\\xa0쉽게\\xa0만들\\xa0수\\xa0있습니다.\\xa0다양한\\xa0유형의\\xa0사용자\\xa0요청을\\xa0처리할\\xa0수\\xa0있는\\xa0챗봇이\\xa0필요하든,\\xa0복잡한\\xa0작업을\\xa0수행하는\\xa0멀티\\xa0에이전트\\xa0시스템이\\xa0필요하든,\\xa0LangGraph는\\xa0필요한\\xa0도구를\\xa0제공합니다.\\xa0창의력을\\xa0마음껏\\xa0발휘할\\xa0수\\xa0있습니다.\\nScalability [...] LangGraph는\\xa0LLM을\\xa0사용하여\\xa0상태를\\xa0유지하고\\xa0여러\\xa0에이전트를\\xa0포함한\\xa0애플리케이션을\\xa0쉽게\\xa0만들\\xa0수\\xa0있도록\\xa0도와줍니다.\\xa0이\\xa0도구는\\xa0LangChain의\\xa0기능을\\xa0확장하여,\\xa0복잡한\\xa0에이전트\\xa0런타임\\xa0개발에\\xa0필수적인\\xa0순환\\xa0그래프를\\xa0만들고\\xa0관리할\\xa0수\\xa0있는\\xa0기능을\\xa0추가합니다.\\xa0LangGraph의\\xa0핵심\\xa0개념에는\\xa0그래프\\xa0구조,\\xa0상태\\xa0관리\\xa0및\\xa0조정이\\xa0포함됩니다.\\nGraph\\xa0structure\\nLangGraph에서는 각 노드가 LLM 에이전트를 나타내고, edge는 이 에이전트들 간의 통신 채널입니다.\\n이 구조는 각 에이전트가 특정 작업을 수행하고 필요에 따라 다른 에이전트에 정보를 전달하는 명확하고 관리 가능한 워크플로를 허용합니다.\\nState\\xa0management', 'score': 0.8682137, 'raw_content': None}, {'url': 'https://ai-inform.tistory.com/entry/%EB%9E%AD%EA%B7%B8%EB%9E%98%ED%94%84%EB%9E%80-LangGraph-%EC%89%AC%EC%9A%B4%EC%84%A4%EB%AA%85', 'title': '랭그래프란? LangGraph 쉬운설명 - AI 알리미', 'content': '랭그래프는 다음과 같은 장점을 제공합니다. 효율적인 개발. 복잡한 멀티 에이전트 시스템을 쉽고 빠르게 개발할 수 있도록 도와줍니다. 유지보수 용이성.', 'score': 0.79522943, 'raw_content': None}], 'response_time': 1.08}),\n",
      " AIMessage(content='LangGraph는 AI 에이전트를 개발하는 데 있어 여러 유용한 특징을 제공합니다. 다음은 주요 특징입니다:\\n\\n1. **자동 상태 관리**: LangGraph는 여러 상호작용에 걸쳐 정보를 추적하고 유지할 수 있는 자동 상태 관리 기능을 제공합니다. 이 기능은 에이전트가 작업을 수행하면서 동적으로 상태를 업데이트할 수 있게 해주어, 시스템이 컨텍스트를 유지하고 새로운 입력에 적절히 반응할 수 있도록 돕습니다.\\n\\n2. **조정(Coordination)**: 여러 에이전트가 올바른 순서로 실행되고 필요 정보를 원활하게 교환할 수 있도록 보장합니다. 이는 복잡한 애플리케이션에서 필수적이며, 개발자가 에이전트 조정의 복잡한 세부 사항보다는 애플리케이션의 고수준 논리에 집중할 수 있게 합니다.\\n\\n3. **개발 간소화**: 상태 관리와 에이전트 조정과 관련된 복잡성을 추상화하여 개발자가 워크플로와 로직을 쉽게 정의할 수 있게 돕습니다. 이로 인해 개발 속도가 높아지고 오류 발생 가능성이 줄어듭니다.\\n\\n4. **유연성**: 개발자는 자신만의 에이전트 로직과 통신 프로토콜을 정의할 수 있는 유연성을 갖게 되어 특정 용도에 맞춘 맞춤형 애플리케이션을 쉽게 만들 수 있습니다.\\n\\n5. **확장성(Scalability)**: LangGraph는 LLM을 사용하여 상태를 유지하고 여러 에이전트를 포함한 애플리케이션을 쉽게 만들 수 있도록 지원합니다. 이는 복잡한 에이전트 런타임 개발에 필수적인 순환 그래프를 만들고 관리할 수 있는 기능을 포함합니다.\\n\\n6. **그래프 구조**: 각 노드는 LLM 에이전트를 나타내며, 각 에이전트 간의 통신 채널은 엣지로 표현됩니다. 이를 통해 각 에이전트가 특정 작업을 수행하고 필요한 정보를 다른 에이전트에 전달하는 명확하고 관리 가능한 워크플로를 구성할 수 있습니다.\\n\\n이러한 특징들을 통해 LangGraph는 복잡한 멀티 에이전트 시스템을 효율적으로 개발하고 유지보수할 수 있도록 도와줍니다.', additional_kwargs={'refusal': None}, response_metadata={'token_usage': {'completion_tokens': 511, 'prompt_tokens': 1324, 'total_tokens': 1835, 'completion_tokens_details': {'accepted_prediction_tokens': 0, 'audio_tokens': 0, 'reasoning_tokens': 0, 'rejected_prediction_tokens': 0}, 'prompt_tokens_details': {'audio_tokens': 0, 'cached_tokens': 1152}}, 'model_name': 'gpt-4o-mini-2024-07-18', 'system_fingerprint': 'fp_44added55e', 'id': 'chatcmpl-BLOoutycEK2ct8TlVfDGq0pWuyduI', 'finish_reason': 'stop', 'logprobs': None}, id='run-965dd8d3-e382-429e-a33b-1814298fba2d-0', usage_metadata={'input_tokens': 1324, 'output_tokens': 511, 'total_tokens': 1835, 'input_token_details': {'audio': 0, 'cache_read': 1152}, 'output_token_details': {'audio': 0, 'reasoning': 0}})]\n",
      "()\n"
     ]
    }
   ],
   "source": [
    "from pprint import pprint\n",
    "snapshot = graph.get_state(config)\n",
    "if 'messages' in snapshot.values:\n",
    "\tpprint(snapshot.values['messages'])\n",
    "else:\n",
    "\tprint(\"No messages found in the snapshot.\")\n",
    "print(snapshot.next)\n",
    "\n",
    "\n",
    "\n",
    "# snapshot.next는 LangGraph에서 현재 워크플로우의 다음 실행 노드를 나타냅니다.\n",
    "# 상태 그래프(StateGraph)에서 get_state 메서드로 얻은 스냅샷(snapshot)에는 두 가지 중요한 정보가 포함됩니다:\n",
    "\n",
    "# values - 현재 상태의 값들(예: 메시지 기록, 변수 등)\n",
    "# next - 다음에 실행될 노드의 이름\n",
    "\n",
    "# 따라서 snapshot.next는 워크플로우가 다음으로 어떤 노드를 실행할 예정인지를 알려줍니다. 이는 워크플로우의 현재 진행 상황을 이해하고 디버깅하는 데 매우 유용합니다.\n",
    "# 예를 들어:\n",
    "\n",
    "# snapshot.next가 \"chatbot\"이라면, 다음에 실행될 노드는 \"chatbot\" 노드입니다.\n",
    "# snapshot.next가 \"tools\"라면, 다음에 실행될 노드는 \"tools\" 노드입니다."
   ]
  },
  {
   "cell_type": "code",
   "execution_count": 15,
   "id": "ebb75cb4",
   "metadata": {},
   "outputs": [
    {
     "name": "stdout",
     "output_type": "stream",
     "text": [
      "\n"
     ]
    }
   ],
   "source": [
    "user_input2 = \"AI 에이전트 개발을 위한 기술 선택에 대한 전문가의 지원이 필요해요. 지원 요청을 해도 될까요?\"\n",
    "state2 = {\"messages\": [HumanMessage(content=user_input2)]}\n",
    "response2 = graph.invoke(state2, config)\n",
    "\n",
    "print(response2[\"messages\"][-1].content)"
   ]
  },
  {
   "cell_type": "code",
   "execution_count": 16,
   "id": "8f4af215",
   "metadata": {},
   "outputs": [
    {
     "name": "stdout",
     "output_type": "stream",
     "text": [
      "[HumanMessage(content='AI 에이전트 개발을 위한 LangGraph의 특징에 대해 설명해주세요.', additional_kwargs={}, response_metadata={}, id='1e71a8ce-8475-4c61-ba5a-04feff536834'),\n",
      " AIMessage(content='', additional_kwargs={'tool_calls': [{'id': 'call_kw5nE4KI2vnltxNMK7zfWMz5', 'function': {'arguments': '{\"query\":\"LangGraph AI 에이전트 개발 특징\"}', 'name': 'tavily_search_results_json'}, 'type': 'function'}], 'refusal': None}, response_metadata={'token_usage': {'completion_tokens': 27, 'prompt_tokens': 115, 'total_tokens': 142, 'completion_tokens_details': {'accepted_prediction_tokens': 0, 'audio_tokens': 0, 'reasoning_tokens': 0, 'rejected_prediction_tokens': 0}, 'prompt_tokens_details': {'audio_tokens': 0, 'cached_tokens': 0}}, 'model_name': 'gpt-4o-mini-2024-07-18', 'system_fingerprint': 'fp_44added55e', 'id': 'chatcmpl-BLOorp7WhQsDVVjhdTpJGUjoMz0je', 'finish_reason': 'tool_calls', 'logprobs': None}, id='run-fd4ee3f8-4bf2-4f63-9a61-42eb9c01b938-0', tool_calls=[{'name': 'tavily_search_results_json', 'args': {'query': 'LangGraph AI 에이전트 개발 특징'}, 'id': 'call_kw5nE4KI2vnltxNMK7zfWMz5', 'type': 'tool_call'}], usage_metadata={'input_tokens': 115, 'output_tokens': 27, 'total_tokens': 142, 'input_token_details': {'audio': 0, 'cache_read': 0}, 'output_token_details': {'audio': 0, 'reasoning': 0}}),\n",
      " ToolMessage(content='[{\"title\": \"LangGraph) LangGraph에 대한 개념과 간단한 예시 만들어보기\", \"url\": \"https://data-newbie.tistory.com/997\", \"content\": \"LangGraph의\\xa0두드러진\\xa0특징\\xa0중\\xa0하나는\\xa0자동\\xa0상태\\xa0관리\\xa0기능입니다.\\xa0이\\xa0기능을\\xa0통해\\xa0여러\\xa0상호작용에\\xa0걸쳐\\xa0정보를\\xa0추적하고\\xa0유지할\\xa0수\\xa0있습니다.\\xa0에이전트가\\xa0작업을\\xa0수행함에\\xa0따라\\xa0상태가\\xa0동적으로\\xa0업데이트되어\\xa0시스템이\\xa0컨텍스트를\\xa0유지하고\\xa0새로운\\xa0입력에\\xa0적절히\\xa0반응할\\xa0수\\xa0있습니다.\\\\n이게 특히 좋은 것이 기존에 llm chain에서 하려고 하면 runnable 로 계속 감싸고 감싸는 구조를 만들었던 기억이 있는데, 이렇게 관리를 해준다는 게 너무 좋은 것 같습니다.\\\\nCoordination\\\\nLangGraph는\\xa0에이전트가\\xa0올바른\\xa0순서로\\xa0실행되고\\xa0필요한\\xa0정보가\\xa0원활하게\\xa0교환되도록\\xa0보장합니다.\\xa0이는\\xa0여러\\xa0에이전트가\\xa0협력하여\\xa0공동의\\xa0목표를\\xa0달성해야\\xa0하는\\xa0복잡한\\xa0애플리케이션에서\\xa0필수적입니다.\\xa0데이터\\xa0흐름과\\xa0작업\\xa0순서를\\xa0관리함으로써\\xa0LangGraph는\\xa0개발자가\\xa0에이전트\\xa0조정의\\xa0복잡한\\xa0세부\\xa0사항보다는\\xa0애플리케이션의\\xa0고수준\\xa0논리에\\xa0집중할\\xa0수\\xa0있게\\xa0합니다.\\\\n왜 써야 하는가? [...] Simplified\\xa0development\\\\nLangGraph는\\xa0상태\\xa0관리\\xa0및\\xa0에이전트\\xa0조정과\\xa0관련된\\xa0복잡성을\\xa0추상화합니다.\\xa0따라서\\xa0개발자는\\xa0데이터\\xa0일관성과\\xa0올바른\\xa0실행\\xa0순서를\\xa0보장하는\\xa0기본\\xa0메커니즘에\\xa0대해\\xa0걱정하지\\xa0않고\\xa0워크플로와\\xa0로직을\\xa0정의할\\xa0수\\xa0있습니다.\\xa0이러한\\xa0간소화는\\xa0개발\\xa0속도를\\xa0높이고\\xa0오류\\xa0발생\\xa0가능성을\\xa0줄여줍니다.\\xa0정말\\xa0혁신적입니다!\\\\n아직 익숙하지 않지만, 익숙해지면 편리할 것 같은 구조인 것 같습니다.\\\\nFlexibility\\\\nLangGraph를\\xa0사용하면\\xa0개발자는\\xa0자신의\\xa0에이전트\\xa0로직과\\xa0통신\\xa0프로토콜을\\xa0정의할\\xa0수\\xa0있는\\xa0유연성을\\xa0갖게\\xa0됩니다.\\xa0이를\\xa0통해\\xa0특정\\xa0용도에\\xa0맞춘\\xa0맞춤형\\xa0애플리케이션을\\xa0쉽게\\xa0만들\\xa0수\\xa0있습니다.\\xa0다양한\\xa0유형의\\xa0사용자\\xa0요청을\\xa0처리할\\xa0수\\xa0있는\\xa0챗봇이\\xa0필요하든,\\xa0복잡한\\xa0작업을\\xa0수행하는\\xa0멀티\\xa0에이전트\\xa0시스템이\\xa0필요하든,\\xa0LangGraph는\\xa0필요한\\xa0도구를\\xa0제공합니다.\\xa0창의력을\\xa0마음껏\\xa0발휘할\\xa0수\\xa0있습니다.\\\\nScalability [...] LangGraph는\\xa0LLM을\\xa0사용하여\\xa0상태를\\xa0유지하고\\xa0여러\\xa0에이전트를\\xa0포함한\\xa0애플리케이션을\\xa0쉽게\\xa0만들\\xa0수\\xa0있도록\\xa0도와줍니다.\\xa0이\\xa0도구는\\xa0LangChain의\\xa0기능을\\xa0확장하여,\\xa0복잡한\\xa0에이전트\\xa0런타임\\xa0개발에\\xa0필수적인\\xa0순환\\xa0그래프를\\xa0만들고\\xa0관리할\\xa0수\\xa0있는\\xa0기능을\\xa0추가합니다.\\xa0LangGraph의\\xa0핵심\\xa0개념에는\\xa0그래프\\xa0구조,\\xa0상태\\xa0관리\\xa0및\\xa0조정이\\xa0포함됩니다.\\\\nGraph\\xa0structure\\\\nLangGraph에서는 각 노드가 LLM 에이전트를 나타내고, edge는 이 에이전트들 간의 통신 채널입니다.\\\\n이 구조는 각 에이전트가 특정 작업을 수행하고 필요에 따라 다른 에이전트에 정보를 전달하는 명확하고 관리 가능한 워크플로를 허용합니다.\\\\nState\\xa0management\", \"score\": 0.8682137}, {\"title\": \"랭그래프란? LangGraph 쉬운설명 - AI 알리미\", \"url\": \"https://ai-inform.tistory.com/entry/%EB%9E%AD%EA%B7%B8%EB%9E%98%ED%94%84%EB%9E%80-LangGraph-%EC%89%AC%EC%9A%B4%EC%84%A4%EB%AA%85\", \"content\": \"랭그래프는 다음과 같은 장점을 제공합니다. 효율적인 개발. 복잡한 멀티 에이전트 시스템을 쉽고 빠르게 개발할 수 있도록 도와줍니다. 유지보수 용이성.\", \"score\": 0.79522943}]', name='tavily_search_results_json', id='3f863947-1b96-40b4-9c20-828aba9909c1', tool_call_id='call_kw5nE4KI2vnltxNMK7zfWMz5', artifact={'query': 'LangGraph AI 에이전트 개발 특징', 'follow_up_questions': None, 'answer': None, 'images': [], 'results': [{'url': 'https://data-newbie.tistory.com/997', 'title': 'LangGraph) LangGraph에 대한 개념과 간단한 예시 만들어보기', 'content': 'LangGraph의\\xa0두드러진\\xa0특징\\xa0중\\xa0하나는\\xa0자동\\xa0상태\\xa0관리\\xa0기능입니다.\\xa0이\\xa0기능을\\xa0통해\\xa0여러\\xa0상호작용에\\xa0걸쳐\\xa0정보를\\xa0추적하고\\xa0유지할\\xa0수\\xa0있습니다.\\xa0에이전트가\\xa0작업을\\xa0수행함에\\xa0따라\\xa0상태가\\xa0동적으로\\xa0업데이트되어\\xa0시스템이\\xa0컨텍스트를\\xa0유지하고\\xa0새로운\\xa0입력에\\xa0적절히\\xa0반응할\\xa0수\\xa0있습니다.\\n이게 특히 좋은 것이 기존에 llm chain에서 하려고 하면 runnable 로 계속 감싸고 감싸는 구조를 만들었던 기억이 있는데, 이렇게 관리를 해준다는 게 너무 좋은 것 같습니다.\\nCoordination\\nLangGraph는\\xa0에이전트가\\xa0올바른\\xa0순서로\\xa0실행되고\\xa0필요한\\xa0정보가\\xa0원활하게\\xa0교환되도록\\xa0보장합니다.\\xa0이는\\xa0여러\\xa0에이전트가\\xa0협력하여\\xa0공동의\\xa0목표를\\xa0달성해야\\xa0하는\\xa0복잡한\\xa0애플리케이션에서\\xa0필수적입니다.\\xa0데이터\\xa0흐름과\\xa0작업\\xa0순서를\\xa0관리함으로써\\xa0LangGraph는\\xa0개발자가\\xa0에이전트\\xa0조정의\\xa0복잡한\\xa0세부\\xa0사항보다는\\xa0애플리케이션의\\xa0고수준\\xa0논리에\\xa0집중할\\xa0수\\xa0있게\\xa0합니다.\\n왜 써야 하는가? [...] Simplified\\xa0development\\nLangGraph는\\xa0상태\\xa0관리\\xa0및\\xa0에이전트\\xa0조정과\\xa0관련된\\xa0복잡성을\\xa0추상화합니다.\\xa0따라서\\xa0개발자는\\xa0데이터\\xa0일관성과\\xa0올바른\\xa0실행\\xa0순서를\\xa0보장하는\\xa0기본\\xa0메커니즘에\\xa0대해\\xa0걱정하지\\xa0않고\\xa0워크플로와\\xa0로직을\\xa0정의할\\xa0수\\xa0있습니다.\\xa0이러한\\xa0간소화는\\xa0개발\\xa0속도를\\xa0높이고\\xa0오류\\xa0발생\\xa0가능성을\\xa0줄여줍니다.\\xa0정말\\xa0혁신적입니다!\\n아직 익숙하지 않지만, 익숙해지면 편리할 것 같은 구조인 것 같습니다.\\nFlexibility\\nLangGraph를\\xa0사용하면\\xa0개발자는\\xa0자신의\\xa0에이전트\\xa0로직과\\xa0통신\\xa0프로토콜을\\xa0정의할\\xa0수\\xa0있는\\xa0유연성을\\xa0갖게\\xa0됩니다.\\xa0이를\\xa0통해\\xa0특정\\xa0용도에\\xa0맞춘\\xa0맞춤형\\xa0애플리케이션을\\xa0쉽게\\xa0만들\\xa0수\\xa0있습니다.\\xa0다양한\\xa0유형의\\xa0사용자\\xa0요청을\\xa0처리할\\xa0수\\xa0있는\\xa0챗봇이\\xa0필요하든,\\xa0복잡한\\xa0작업을\\xa0수행하는\\xa0멀티\\xa0에이전트\\xa0시스템이\\xa0필요하든,\\xa0LangGraph는\\xa0필요한\\xa0도구를\\xa0제공합니다.\\xa0창의력을\\xa0마음껏\\xa0발휘할\\xa0수\\xa0있습니다.\\nScalability [...] LangGraph는\\xa0LLM을\\xa0사용하여\\xa0상태를\\xa0유지하고\\xa0여러\\xa0에이전트를\\xa0포함한\\xa0애플리케이션을\\xa0쉽게\\xa0만들\\xa0수\\xa0있도록\\xa0도와줍니다.\\xa0이\\xa0도구는\\xa0LangChain의\\xa0기능을\\xa0확장하여,\\xa0복잡한\\xa0에이전트\\xa0런타임\\xa0개발에\\xa0필수적인\\xa0순환\\xa0그래프를\\xa0만들고\\xa0관리할\\xa0수\\xa0있는\\xa0기능을\\xa0추가합니다.\\xa0LangGraph의\\xa0핵심\\xa0개념에는\\xa0그래프\\xa0구조,\\xa0상태\\xa0관리\\xa0및\\xa0조정이\\xa0포함됩니다.\\nGraph\\xa0structure\\nLangGraph에서는 각 노드가 LLM 에이전트를 나타내고, edge는 이 에이전트들 간의 통신 채널입니다.\\n이 구조는 각 에이전트가 특정 작업을 수행하고 필요에 따라 다른 에이전트에 정보를 전달하는 명확하고 관리 가능한 워크플로를 허용합니다.\\nState\\xa0management', 'score': 0.8682137, 'raw_content': None}, {'url': 'https://ai-inform.tistory.com/entry/%EB%9E%AD%EA%B7%B8%EB%9E%98%ED%94%84%EB%9E%80-LangGraph-%EC%89%AC%EC%9A%B4%EC%84%A4%EB%AA%85', 'title': '랭그래프란? LangGraph 쉬운설명 - AI 알리미', 'content': '랭그래프는 다음과 같은 장점을 제공합니다. 효율적인 개발. 복잡한 멀티 에이전트 시스템을 쉽고 빠르게 개발할 수 있도록 도와줍니다. 유지보수 용이성.', 'score': 0.79522943, 'raw_content': None}], 'response_time': 1.08}),\n",
      " AIMessage(content='LangGraph는 AI 에이전트를 개발하는 데 있어 여러 유용한 특징을 제공합니다. 다음은 주요 특징입니다:\\n\\n1. **자동 상태 관리**: LangGraph는 여러 상호작용에 걸쳐 정보를 추적하고 유지할 수 있는 자동 상태 관리 기능을 제공합니다. 이 기능은 에이전트가 작업을 수행하면서 동적으로 상태를 업데이트할 수 있게 해주어, 시스템이 컨텍스트를 유지하고 새로운 입력에 적절히 반응할 수 있도록 돕습니다.\\n\\n2. **조정(Coordination)**: 여러 에이전트가 올바른 순서로 실행되고 필요 정보를 원활하게 교환할 수 있도록 보장합니다. 이는 복잡한 애플리케이션에서 필수적이며, 개발자가 에이전트 조정의 복잡한 세부 사항보다는 애플리케이션의 고수준 논리에 집중할 수 있게 합니다.\\n\\n3. **개발 간소화**: 상태 관리와 에이전트 조정과 관련된 복잡성을 추상화하여 개발자가 워크플로와 로직을 쉽게 정의할 수 있게 돕습니다. 이로 인해 개발 속도가 높아지고 오류 발생 가능성이 줄어듭니다.\\n\\n4. **유연성**: 개발자는 자신만의 에이전트 로직과 통신 프로토콜을 정의할 수 있는 유연성을 갖게 되어 특정 용도에 맞춘 맞춤형 애플리케이션을 쉽게 만들 수 있습니다.\\n\\n5. **확장성(Scalability)**: LangGraph는 LLM을 사용하여 상태를 유지하고 여러 에이전트를 포함한 애플리케이션을 쉽게 만들 수 있도록 지원합니다. 이는 복잡한 에이전트 런타임 개발에 필수적인 순환 그래프를 만들고 관리할 수 있는 기능을 포함합니다.\\n\\n6. **그래프 구조**: 각 노드는 LLM 에이전트를 나타내며, 각 에이전트 간의 통신 채널은 엣지로 표현됩니다. 이를 통해 각 에이전트가 특정 작업을 수행하고 필요한 정보를 다른 에이전트에 전달하는 명확하고 관리 가능한 워크플로를 구성할 수 있습니다.\\n\\n이러한 특징들을 통해 LangGraph는 복잡한 멀티 에이전트 시스템을 효율적으로 개발하고 유지보수할 수 있도록 도와줍니다.', additional_kwargs={'refusal': None}, response_metadata={'token_usage': {'completion_tokens': 511, 'prompt_tokens': 1324, 'total_tokens': 1835, 'completion_tokens_details': {'accepted_prediction_tokens': 0, 'audio_tokens': 0, 'reasoning_tokens': 0, 'rejected_prediction_tokens': 0}, 'prompt_tokens_details': {'audio_tokens': 0, 'cached_tokens': 1152}}, 'model_name': 'gpt-4o-mini-2024-07-18', 'system_fingerprint': 'fp_44added55e', 'id': 'chatcmpl-BLOoutycEK2ct8TlVfDGq0pWuyduI', 'finish_reason': 'stop', 'logprobs': None}, id='run-965dd8d3-e382-429e-a33b-1814298fba2d-0', usage_metadata={'input_tokens': 1324, 'output_tokens': 511, 'total_tokens': 1835, 'input_token_details': {'audio': 0, 'cache_read': 1152}, 'output_token_details': {'audio': 0, 'reasoning': 0}}),\n",
      " HumanMessage(content='AI 에이전트 개발을 위한 기술 선택에 대한 전문가의 지원이 필요해요. 지원 요청을 해도 될까요?', additional_kwargs={}, response_metadata={}, id='5942901e-42a7-4f58-a70b-fb362a519aa2'),\n",
      " AIMessage(content='', additional_kwargs={'tool_calls': [{'id': 'call_PU4gbhgtOTp196yjQEeTXw6F', 'function': {'arguments': '{\"query\":\"AI 에이전트 개발을 위한 기술 선택에 대한 전문가 지원 요청\"}', 'name': 'human_assist'}, 'type': 'function'}], 'refusal': None}, response_metadata={'token_usage': {'completion_tokens': 31, 'prompt_tokens': 1869, 'total_tokens': 1900, 'completion_tokens_details': {'accepted_prediction_tokens': 0, 'audio_tokens': 0, 'reasoning_tokens': 0, 'rejected_prediction_tokens': 0}, 'prompt_tokens_details': {'audio_tokens': 0, 'cached_tokens': 1792}}, 'model_name': 'gpt-4o-mini-2024-07-18', 'system_fingerprint': 'fp_44added55e', 'id': 'chatcmpl-BLOp3abJAMbh8i92uo0U2hYreJZAO', 'finish_reason': 'tool_calls', 'logprobs': None}, id='run-7b73ae9e-b3eb-4879-ba61-08ea209a9974-0', tool_calls=[{'name': 'human_assist', 'args': {'query': 'AI 에이전트 개발을 위한 기술 선택에 대한 전문가 지원 요청'}, 'id': 'call_PU4gbhgtOTp196yjQEeTXw6F', 'type': 'tool_call'}], usage_metadata={'input_tokens': 1869, 'output_tokens': 31, 'total_tokens': 1900, 'input_token_details': {'audio': 0, 'cache_read': 1792}, 'output_token_details': {'audio': 0, 'reasoning': 0}})]\n",
      "('tools',)\n"
     ]
    }
   ],
   "source": [
    "snapshot = graph.get_state(config)\n",
    "if 'messages' in snapshot.values:\n",
    "\tpprint(snapshot.values['messages'])\n",
    "else:\n",
    "\tprint(\"No messages found in the snapshot.\")\n",
    "print(snapshot.next)"
   ]
  },
  {
   "cell_type": "code",
   "execution_count": 17,
   "id": "b12869b1",
   "metadata": {},
   "outputs": [
    {
     "name": "stdout",
     "output_type": "stream",
     "text": [
      "AI 에이전트 개발을 위한 기술 선택에 대해 전문가의 지원을 요청하는 것은 좋은 접근입니다. LangGraph와 같은 도구는 많은 장점을 제공하므로, 이러한 도구를 활용하는 것이 한 가지 옵션이 될 수 있습니다. 추가적으로 어떤 특정 요구 사항이나 목표가 있는지에 따라 적절한 기술 스택을 선택하는 데 도움이 될 수 있습니다. \n",
      "\n",
      "필요한 지원이나 질문이 있다면 언제든지 말씀해 주세요!\n"
     ]
    }
   ],
   "source": [
    "from langgraph.types import Command\n",
    "\n",
    "human_response = (\n",
    "    \"네, 물론입니다. AI 에이전트 개발을 위한 기술 선택에 대한 지원을 해드리겠습니다. \"\n",
    "    \"우선 LangGraph를 사용하는 것에 대해 어떻게 생각하시나요? \"\n",
    "    \"LangGraph는 AI 에이전트를 개발하는 데 매우 유용한 도구입니다. \"\n",
    ")\n",
    "\n",
    "human_command = Command(resume={\"data\": human_response})\n",
    "response = graph.invoke(human_command, config)\n",
    "print(response[\"messages\"][-1].content)"
   ]
  },
  {
   "cell_type": "code",
   "execution_count": 18,
   "id": "be8d3f30",
   "metadata": {},
   "outputs": [
    {
     "name": "stdout",
     "output_type": "stream",
     "text": [
      "[HumanMessage(content='AI 에이전트 개발을 위한 LangGraph의 특징에 대해 설명해주세요.', additional_kwargs={}, response_metadata={}, id='1e71a8ce-8475-4c61-ba5a-04feff536834'),\n",
      " AIMessage(content='', additional_kwargs={'tool_calls': [{'id': 'call_kw5nE4KI2vnltxNMK7zfWMz5', 'function': {'arguments': '{\"query\":\"LangGraph AI 에이전트 개발 특징\"}', 'name': 'tavily_search_results_json'}, 'type': 'function'}], 'refusal': None}, response_metadata={'token_usage': {'completion_tokens': 27, 'prompt_tokens': 115, 'total_tokens': 142, 'completion_tokens_details': {'accepted_prediction_tokens': 0, 'audio_tokens': 0, 'reasoning_tokens': 0, 'rejected_prediction_tokens': 0}, 'prompt_tokens_details': {'audio_tokens': 0, 'cached_tokens': 0}}, 'model_name': 'gpt-4o-mini-2024-07-18', 'system_fingerprint': 'fp_44added55e', 'id': 'chatcmpl-BLOorp7WhQsDVVjhdTpJGUjoMz0je', 'finish_reason': 'tool_calls', 'logprobs': None}, id='run-fd4ee3f8-4bf2-4f63-9a61-42eb9c01b938-0', tool_calls=[{'name': 'tavily_search_results_json', 'args': {'query': 'LangGraph AI 에이전트 개발 특징'}, 'id': 'call_kw5nE4KI2vnltxNMK7zfWMz5', 'type': 'tool_call'}], usage_metadata={'input_tokens': 115, 'output_tokens': 27, 'total_tokens': 142, 'input_token_details': {'audio': 0, 'cache_read': 0}, 'output_token_details': {'audio': 0, 'reasoning': 0}}),\n",
      " ToolMessage(content='[{\"title\": \"LangGraph) LangGraph에 대한 개념과 간단한 예시 만들어보기\", \"url\": \"https://data-newbie.tistory.com/997\", \"content\": \"LangGraph의\\xa0두드러진\\xa0특징\\xa0중\\xa0하나는\\xa0자동\\xa0상태\\xa0관리\\xa0기능입니다.\\xa0이\\xa0기능을\\xa0통해\\xa0여러\\xa0상호작용에\\xa0걸쳐\\xa0정보를\\xa0추적하고\\xa0유지할\\xa0수\\xa0있습니다.\\xa0에이전트가\\xa0작업을\\xa0수행함에\\xa0따라\\xa0상태가\\xa0동적으로\\xa0업데이트되어\\xa0시스템이\\xa0컨텍스트를\\xa0유지하고\\xa0새로운\\xa0입력에\\xa0적절히\\xa0반응할\\xa0수\\xa0있습니다.\\\\n이게 특히 좋은 것이 기존에 llm chain에서 하려고 하면 runnable 로 계속 감싸고 감싸는 구조를 만들었던 기억이 있는데, 이렇게 관리를 해준다는 게 너무 좋은 것 같습니다.\\\\nCoordination\\\\nLangGraph는\\xa0에이전트가\\xa0올바른\\xa0순서로\\xa0실행되고\\xa0필요한\\xa0정보가\\xa0원활하게\\xa0교환되도록\\xa0보장합니다.\\xa0이는\\xa0여러\\xa0에이전트가\\xa0협력하여\\xa0공동의\\xa0목표를\\xa0달성해야\\xa0하는\\xa0복잡한\\xa0애플리케이션에서\\xa0필수적입니다.\\xa0데이터\\xa0흐름과\\xa0작업\\xa0순서를\\xa0관리함으로써\\xa0LangGraph는\\xa0개발자가\\xa0에이전트\\xa0조정의\\xa0복잡한\\xa0세부\\xa0사항보다는\\xa0애플리케이션의\\xa0고수준\\xa0논리에\\xa0집중할\\xa0수\\xa0있게\\xa0합니다.\\\\n왜 써야 하는가? [...] Simplified\\xa0development\\\\nLangGraph는\\xa0상태\\xa0관리\\xa0및\\xa0에이전트\\xa0조정과\\xa0관련된\\xa0복잡성을\\xa0추상화합니다.\\xa0따라서\\xa0개발자는\\xa0데이터\\xa0일관성과\\xa0올바른\\xa0실행\\xa0순서를\\xa0보장하는\\xa0기본\\xa0메커니즘에\\xa0대해\\xa0걱정하지\\xa0않고\\xa0워크플로와\\xa0로직을\\xa0정의할\\xa0수\\xa0있습니다.\\xa0이러한\\xa0간소화는\\xa0개발\\xa0속도를\\xa0높이고\\xa0오류\\xa0발생\\xa0가능성을\\xa0줄여줍니다.\\xa0정말\\xa0혁신적입니다!\\\\n아직 익숙하지 않지만, 익숙해지면 편리할 것 같은 구조인 것 같습니다.\\\\nFlexibility\\\\nLangGraph를\\xa0사용하면\\xa0개발자는\\xa0자신의\\xa0에이전트\\xa0로직과\\xa0통신\\xa0프로토콜을\\xa0정의할\\xa0수\\xa0있는\\xa0유연성을\\xa0갖게\\xa0됩니다.\\xa0이를\\xa0통해\\xa0특정\\xa0용도에\\xa0맞춘\\xa0맞춤형\\xa0애플리케이션을\\xa0쉽게\\xa0만들\\xa0수\\xa0있습니다.\\xa0다양한\\xa0유형의\\xa0사용자\\xa0요청을\\xa0처리할\\xa0수\\xa0있는\\xa0챗봇이\\xa0필요하든,\\xa0복잡한\\xa0작업을\\xa0수행하는\\xa0멀티\\xa0에이전트\\xa0시스템이\\xa0필요하든,\\xa0LangGraph는\\xa0필요한\\xa0도구를\\xa0제공합니다.\\xa0창의력을\\xa0마음껏\\xa0발휘할\\xa0수\\xa0있습니다.\\\\nScalability [...] LangGraph는\\xa0LLM을\\xa0사용하여\\xa0상태를\\xa0유지하고\\xa0여러\\xa0에이전트를\\xa0포함한\\xa0애플리케이션을\\xa0쉽게\\xa0만들\\xa0수\\xa0있도록\\xa0도와줍니다.\\xa0이\\xa0도구는\\xa0LangChain의\\xa0기능을\\xa0확장하여,\\xa0복잡한\\xa0에이전트\\xa0런타임\\xa0개발에\\xa0필수적인\\xa0순환\\xa0그래프를\\xa0만들고\\xa0관리할\\xa0수\\xa0있는\\xa0기능을\\xa0추가합니다.\\xa0LangGraph의\\xa0핵심\\xa0개념에는\\xa0그래프\\xa0구조,\\xa0상태\\xa0관리\\xa0및\\xa0조정이\\xa0포함됩니다.\\\\nGraph\\xa0structure\\\\nLangGraph에서는 각 노드가 LLM 에이전트를 나타내고, edge는 이 에이전트들 간의 통신 채널입니다.\\\\n이 구조는 각 에이전트가 특정 작업을 수행하고 필요에 따라 다른 에이전트에 정보를 전달하는 명확하고 관리 가능한 워크플로를 허용합니다.\\\\nState\\xa0management\", \"score\": 0.8682137}, {\"title\": \"랭그래프란? LangGraph 쉬운설명 - AI 알리미\", \"url\": \"https://ai-inform.tistory.com/entry/%EB%9E%AD%EA%B7%B8%EB%9E%98%ED%94%84%EB%9E%80-LangGraph-%EC%89%AC%EC%9A%B4%EC%84%A4%EB%AA%85\", \"content\": \"랭그래프는 다음과 같은 장점을 제공합니다. 효율적인 개발. 복잡한 멀티 에이전트 시스템을 쉽고 빠르게 개발할 수 있도록 도와줍니다. 유지보수 용이성.\", \"score\": 0.79522943}]', name='tavily_search_results_json', id='3f863947-1b96-40b4-9c20-828aba9909c1', tool_call_id='call_kw5nE4KI2vnltxNMK7zfWMz5', artifact={'query': 'LangGraph AI 에이전트 개발 특징', 'follow_up_questions': None, 'answer': None, 'images': [], 'results': [{'url': 'https://data-newbie.tistory.com/997', 'title': 'LangGraph) LangGraph에 대한 개념과 간단한 예시 만들어보기', 'content': 'LangGraph의\\xa0두드러진\\xa0특징\\xa0중\\xa0하나는\\xa0자동\\xa0상태\\xa0관리\\xa0기능입니다.\\xa0이\\xa0기능을\\xa0통해\\xa0여러\\xa0상호작용에\\xa0걸쳐\\xa0정보를\\xa0추적하고\\xa0유지할\\xa0수\\xa0있습니다.\\xa0에이전트가\\xa0작업을\\xa0수행함에\\xa0따라\\xa0상태가\\xa0동적으로\\xa0업데이트되어\\xa0시스템이\\xa0컨텍스트를\\xa0유지하고\\xa0새로운\\xa0입력에\\xa0적절히\\xa0반응할\\xa0수\\xa0있습니다.\\n이게 특히 좋은 것이 기존에 llm chain에서 하려고 하면 runnable 로 계속 감싸고 감싸는 구조를 만들었던 기억이 있는데, 이렇게 관리를 해준다는 게 너무 좋은 것 같습니다.\\nCoordination\\nLangGraph는\\xa0에이전트가\\xa0올바른\\xa0순서로\\xa0실행되고\\xa0필요한\\xa0정보가\\xa0원활하게\\xa0교환되도록\\xa0보장합니다.\\xa0이는\\xa0여러\\xa0에이전트가\\xa0협력하여\\xa0공동의\\xa0목표를\\xa0달성해야\\xa0하는\\xa0복잡한\\xa0애플리케이션에서\\xa0필수적입니다.\\xa0데이터\\xa0흐름과\\xa0작업\\xa0순서를\\xa0관리함으로써\\xa0LangGraph는\\xa0개발자가\\xa0에이전트\\xa0조정의\\xa0복잡한\\xa0세부\\xa0사항보다는\\xa0애플리케이션의\\xa0고수준\\xa0논리에\\xa0집중할\\xa0수\\xa0있게\\xa0합니다.\\n왜 써야 하는가? [...] Simplified\\xa0development\\nLangGraph는\\xa0상태\\xa0관리\\xa0및\\xa0에이전트\\xa0조정과\\xa0관련된\\xa0복잡성을\\xa0추상화합니다.\\xa0따라서\\xa0개발자는\\xa0데이터\\xa0일관성과\\xa0올바른\\xa0실행\\xa0순서를\\xa0보장하는\\xa0기본\\xa0메커니즘에\\xa0대해\\xa0걱정하지\\xa0않고\\xa0워크플로와\\xa0로직을\\xa0정의할\\xa0수\\xa0있습니다.\\xa0이러한\\xa0간소화는\\xa0개발\\xa0속도를\\xa0높이고\\xa0오류\\xa0발생\\xa0가능성을\\xa0줄여줍니다.\\xa0정말\\xa0혁신적입니다!\\n아직 익숙하지 않지만, 익숙해지면 편리할 것 같은 구조인 것 같습니다.\\nFlexibility\\nLangGraph를\\xa0사용하면\\xa0개발자는\\xa0자신의\\xa0에이전트\\xa0로직과\\xa0통신\\xa0프로토콜을\\xa0정의할\\xa0수\\xa0있는\\xa0유연성을\\xa0갖게\\xa0됩니다.\\xa0이를\\xa0통해\\xa0특정\\xa0용도에\\xa0맞춘\\xa0맞춤형\\xa0애플리케이션을\\xa0쉽게\\xa0만들\\xa0수\\xa0있습니다.\\xa0다양한\\xa0유형의\\xa0사용자\\xa0요청을\\xa0처리할\\xa0수\\xa0있는\\xa0챗봇이\\xa0필요하든,\\xa0복잡한\\xa0작업을\\xa0수행하는\\xa0멀티\\xa0에이전트\\xa0시스템이\\xa0필요하든,\\xa0LangGraph는\\xa0필요한\\xa0도구를\\xa0제공합니다.\\xa0창의력을\\xa0마음껏\\xa0발휘할\\xa0수\\xa0있습니다.\\nScalability [...] LangGraph는\\xa0LLM을\\xa0사용하여\\xa0상태를\\xa0유지하고\\xa0여러\\xa0에이전트를\\xa0포함한\\xa0애플리케이션을\\xa0쉽게\\xa0만들\\xa0수\\xa0있도록\\xa0도와줍니다.\\xa0이\\xa0도구는\\xa0LangChain의\\xa0기능을\\xa0확장하여,\\xa0복잡한\\xa0에이전트\\xa0런타임\\xa0개발에\\xa0필수적인\\xa0순환\\xa0그래프를\\xa0만들고\\xa0관리할\\xa0수\\xa0있는\\xa0기능을\\xa0추가합니다.\\xa0LangGraph의\\xa0핵심\\xa0개념에는\\xa0그래프\\xa0구조,\\xa0상태\\xa0관리\\xa0및\\xa0조정이\\xa0포함됩니다.\\nGraph\\xa0structure\\nLangGraph에서는 각 노드가 LLM 에이전트를 나타내고, edge는 이 에이전트들 간의 통신 채널입니다.\\n이 구조는 각 에이전트가 특정 작업을 수행하고 필요에 따라 다른 에이전트에 정보를 전달하는 명확하고 관리 가능한 워크플로를 허용합니다.\\nState\\xa0management', 'score': 0.8682137, 'raw_content': None}, {'url': 'https://ai-inform.tistory.com/entry/%EB%9E%AD%EA%B7%B8%EB%9E%98%ED%94%84%EB%9E%80-LangGraph-%EC%89%AC%EC%9A%B4%EC%84%A4%EB%AA%85', 'title': '랭그래프란? LangGraph 쉬운설명 - AI 알리미', 'content': '랭그래프는 다음과 같은 장점을 제공합니다. 효율적인 개발. 복잡한 멀티 에이전트 시스템을 쉽고 빠르게 개발할 수 있도록 도와줍니다. 유지보수 용이성.', 'score': 0.79522943, 'raw_content': None}], 'response_time': 1.08}),\n",
      " AIMessage(content='LangGraph는 AI 에이전트를 개발하는 데 있어 여러 유용한 특징을 제공합니다. 다음은 주요 특징입니다:\\n\\n1. **자동 상태 관리**: LangGraph는 여러 상호작용에 걸쳐 정보를 추적하고 유지할 수 있는 자동 상태 관리 기능을 제공합니다. 이 기능은 에이전트가 작업을 수행하면서 동적으로 상태를 업데이트할 수 있게 해주어, 시스템이 컨텍스트를 유지하고 새로운 입력에 적절히 반응할 수 있도록 돕습니다.\\n\\n2. **조정(Coordination)**: 여러 에이전트가 올바른 순서로 실행되고 필요 정보를 원활하게 교환할 수 있도록 보장합니다. 이는 복잡한 애플리케이션에서 필수적이며, 개발자가 에이전트 조정의 복잡한 세부 사항보다는 애플리케이션의 고수준 논리에 집중할 수 있게 합니다.\\n\\n3. **개발 간소화**: 상태 관리와 에이전트 조정과 관련된 복잡성을 추상화하여 개발자가 워크플로와 로직을 쉽게 정의할 수 있게 돕습니다. 이로 인해 개발 속도가 높아지고 오류 발생 가능성이 줄어듭니다.\\n\\n4. **유연성**: 개발자는 자신만의 에이전트 로직과 통신 프로토콜을 정의할 수 있는 유연성을 갖게 되어 특정 용도에 맞춘 맞춤형 애플리케이션을 쉽게 만들 수 있습니다.\\n\\n5. **확장성(Scalability)**: LangGraph는 LLM을 사용하여 상태를 유지하고 여러 에이전트를 포함한 애플리케이션을 쉽게 만들 수 있도록 지원합니다. 이는 복잡한 에이전트 런타임 개발에 필수적인 순환 그래프를 만들고 관리할 수 있는 기능을 포함합니다.\\n\\n6. **그래프 구조**: 각 노드는 LLM 에이전트를 나타내며, 각 에이전트 간의 통신 채널은 엣지로 표현됩니다. 이를 통해 각 에이전트가 특정 작업을 수행하고 필요한 정보를 다른 에이전트에 전달하는 명확하고 관리 가능한 워크플로를 구성할 수 있습니다.\\n\\n이러한 특징들을 통해 LangGraph는 복잡한 멀티 에이전트 시스템을 효율적으로 개발하고 유지보수할 수 있도록 도와줍니다.', additional_kwargs={'refusal': None}, response_metadata={'token_usage': {'completion_tokens': 511, 'prompt_tokens': 1324, 'total_tokens': 1835, 'completion_tokens_details': {'accepted_prediction_tokens': 0, 'audio_tokens': 0, 'reasoning_tokens': 0, 'rejected_prediction_tokens': 0}, 'prompt_tokens_details': {'audio_tokens': 0, 'cached_tokens': 1152}}, 'model_name': 'gpt-4o-mini-2024-07-18', 'system_fingerprint': 'fp_44added55e', 'id': 'chatcmpl-BLOoutycEK2ct8TlVfDGq0pWuyduI', 'finish_reason': 'stop', 'logprobs': None}, id='run-965dd8d3-e382-429e-a33b-1814298fba2d-0', usage_metadata={'input_tokens': 1324, 'output_tokens': 511, 'total_tokens': 1835, 'input_token_details': {'audio': 0, 'cache_read': 1152}, 'output_token_details': {'audio': 0, 'reasoning': 0}}),\n",
      " HumanMessage(content='AI 에이전트 개발을 위한 기술 선택에 대한 전문가의 지원이 필요해요. 지원 요청을 해도 될까요?', additional_kwargs={}, response_metadata={}, id='5942901e-42a7-4f58-a70b-fb362a519aa2'),\n",
      " AIMessage(content='', additional_kwargs={'tool_calls': [{'id': 'call_PU4gbhgtOTp196yjQEeTXw6F', 'function': {'arguments': '{\"query\":\"AI 에이전트 개발을 위한 기술 선택에 대한 전문가 지원 요청\"}', 'name': 'human_assist'}, 'type': 'function'}], 'refusal': None}, response_metadata={'token_usage': {'completion_tokens': 31, 'prompt_tokens': 1869, 'total_tokens': 1900, 'completion_tokens_details': {'accepted_prediction_tokens': 0, 'audio_tokens': 0, 'reasoning_tokens': 0, 'rejected_prediction_tokens': 0}, 'prompt_tokens_details': {'audio_tokens': 0, 'cached_tokens': 1792}}, 'model_name': 'gpt-4o-mini-2024-07-18', 'system_fingerprint': 'fp_44added55e', 'id': 'chatcmpl-BLOp3abJAMbh8i92uo0U2hYreJZAO', 'finish_reason': 'tool_calls', 'logprobs': None}, id='run-7b73ae9e-b3eb-4879-ba61-08ea209a9974-0', tool_calls=[{'name': 'human_assist', 'args': {'query': 'AI 에이전트 개발을 위한 기술 선택에 대한 전문가 지원 요청'}, 'id': 'call_PU4gbhgtOTp196yjQEeTXw6F', 'type': 'tool_call'}], usage_metadata={'input_tokens': 1869, 'output_tokens': 31, 'total_tokens': 1900, 'input_token_details': {'audio': 0, 'cache_read': 1792}, 'output_token_details': {'audio': 0, 'reasoning': 0}}),\n",
      " ToolMessage(content='네, 물론입니다. AI 에이전트 개발을 위한 기술 선택에 대한 지원을 해드리겠습니다. 우선 LangGraph를 사용하는 것에 대해 어떻게 생각하시나요? LangGraph는 AI 에이전트를 개발하는 데 매우 유용한 도구입니다. ', name='human_assist', id='bd11487b-ba31-459c-9b70-3d1eab8d5ea2', tool_call_id='call_PU4gbhgtOTp196yjQEeTXw6F'),\n",
      " AIMessage(content='AI 에이전트 개발을 위한 기술 선택에 대해 전문가의 지원을 요청하는 것은 좋은 접근입니다. LangGraph와 같은 도구는 많은 장점을 제공하므로, 이러한 도구를 활용하는 것이 한 가지 옵션이 될 수 있습니다. 추가적으로 어떤 특정 요구 사항이나 목표가 있는지에 따라 적절한 기술 스택을 선택하는 데 도움이 될 수 있습니다. \\n\\n필요한 지원이나 질문이 있다면 언제든지 말씀해 주세요!', additional_kwargs={'refusal': None}, response_metadata={'token_usage': {'completion_tokens': 99, 'prompt_tokens': 1966, 'total_tokens': 2065, 'completion_tokens_details': {'accepted_prediction_tokens': 0, 'audio_tokens': 0, 'reasoning_tokens': 0, 'rejected_prediction_tokens': 0}, 'prompt_tokens_details': {'audio_tokens': 0, 'cached_tokens': 1792}}, 'model_name': 'gpt-4o-mini-2024-07-18', 'system_fingerprint': 'fp_44added55e', 'id': 'chatcmpl-BLOp5Il59CSQW8y9NNGLAeFpQ7ol0', 'finish_reason': 'stop', 'logprobs': None}, id='run-efa8a6cf-8bff-4ac3-b746-e55393e89863-0', usage_metadata={'input_tokens': 1966, 'output_tokens': 99, 'total_tokens': 2065, 'input_token_details': {'audio': 0, 'cache_read': 1792}, 'output_token_details': {'audio': 0, 'reasoning': 0}})]\n",
      "()\n"
     ]
    }
   ],
   "source": [
    "snapshot = graph.get_state(config)\n",
    "pprint(snapshot.values['messages'])\n",
    "print(snapshot.next)"
   ]
  },
  {
   "cell_type": "code",
   "execution_count": 19,
   "id": "6b7660a2",
   "metadata": {},
   "outputs": [
    {
     "name": "stdout",
     "output_type": "stream",
     "text": [
      "LangGraph는 AI 에이전트를 구축하기 위한 유용한 도구로, 특히 복잡한 에이전트 시스템을 그래프 기반으로 구현할 수 있게 해줍니다. LangGraph는 LangChain 위에 구축된 라이브러리로, 다음과 같은 시장성을 가지고 있습니다:\n",
      "\n",
      "1. **복잡한 시스템 구현**: LangGraph는 다수의 에이전트 간의 상호작용을 효율적으로 관리할 수 있어, 복잡한 시스템을 요구하는 기업 및 연구자들에게 매우 유용합니다. 이 점에서 LangGraph의 수요는 지속적으로 증가할 수 있습니다.\n",
      "\n",
      "2. **그래프 기반 구조**: 그래프 기반의 접근은 에이전트 간의 관계와 흐름을 명확하게 시각화하고 관리할 수 있게 해 줍니다. 이는 특히 데이터 흐름을 중시하는 기업에 적합합니다.\n",
      "\n",
      "3. **기술의 발전**: AI와 머신러닝 기술이 발전하면서 에이전트 기술에 대한 수요가 급증하고 있습니다. LangGraph와 같은 기술은 이러한 시장의 흐름에 잘 부합합니다.\n",
      "\n",
      "4. **커뮤니티 및 지원**: LangGraph는 LangChain 커뮤니티의 발전과 함께 성장할 가능성이 높습니다. 빠른 피드백과 지속적인 업데이트는 기술의 시장성을 더욱 높일 수 있습니다.\n",
      "\n",
      "결론적으로, LangGraph는 현재와 미래의 AI 에이전트 개발을 위한 중요한 기술로 자리 잡을 가능성이 있으며, 관련 시장에서 긍정적인 반응을 얻을 것으로 보입니다.\n"
     ]
    }
   ],
   "source": [
    "user_input3 = \"앞서 추천해주신 기술의 시장성은 어떤가요?\"\n",
    "state3 = {\"messages\": [HumanMessage(content=user_input3)]}\n",
    "response3 = graph.invoke(state3, config)\n",
    "\n",
    "print(response3[\"messages\"][-1].content)"
   ]
  },
  {
   "cell_type": "code",
   "execution_count": 20,
   "id": "1c266602",
   "metadata": {},
   "outputs": [
    {
     "name": "stdout",
     "output_type": "stream",
     "text": [
      "[HumanMessage(content='AI 에이전트 개발을 위한 LangGraph의 특징에 대해 설명해주세요.', additional_kwargs={}, response_metadata={}, id='1e71a8ce-8475-4c61-ba5a-04feff536834'),\n",
      " AIMessage(content='', additional_kwargs={'tool_calls': [{'id': 'call_kw5nE4KI2vnltxNMK7zfWMz5', 'function': {'arguments': '{\"query\":\"LangGraph AI 에이전트 개발 특징\"}', 'name': 'tavily_search_results_json'}, 'type': 'function'}], 'refusal': None}, response_metadata={'token_usage': {'completion_tokens': 27, 'prompt_tokens': 115, 'total_tokens': 142, 'completion_tokens_details': {'accepted_prediction_tokens': 0, 'audio_tokens': 0, 'reasoning_tokens': 0, 'rejected_prediction_tokens': 0}, 'prompt_tokens_details': {'audio_tokens': 0, 'cached_tokens': 0}}, 'model_name': 'gpt-4o-mini-2024-07-18', 'system_fingerprint': 'fp_44added55e', 'id': 'chatcmpl-BLOorp7WhQsDVVjhdTpJGUjoMz0je', 'finish_reason': 'tool_calls', 'logprobs': None}, id='run-fd4ee3f8-4bf2-4f63-9a61-42eb9c01b938-0', tool_calls=[{'name': 'tavily_search_results_json', 'args': {'query': 'LangGraph AI 에이전트 개발 특징'}, 'id': 'call_kw5nE4KI2vnltxNMK7zfWMz5', 'type': 'tool_call'}], usage_metadata={'input_tokens': 115, 'output_tokens': 27, 'total_tokens': 142, 'input_token_details': {'audio': 0, 'cache_read': 0}, 'output_token_details': {'audio': 0, 'reasoning': 0}}),\n",
      " ToolMessage(content='[{\"title\": \"LangGraph) LangGraph에 대한 개념과 간단한 예시 만들어보기\", \"url\": \"https://data-newbie.tistory.com/997\", \"content\": \"LangGraph의\\xa0두드러진\\xa0특징\\xa0중\\xa0하나는\\xa0자동\\xa0상태\\xa0관리\\xa0기능입니다.\\xa0이\\xa0기능을\\xa0통해\\xa0여러\\xa0상호작용에\\xa0걸쳐\\xa0정보를\\xa0추적하고\\xa0유지할\\xa0수\\xa0있습니다.\\xa0에이전트가\\xa0작업을\\xa0수행함에\\xa0따라\\xa0상태가\\xa0동적으로\\xa0업데이트되어\\xa0시스템이\\xa0컨텍스트를\\xa0유지하고\\xa0새로운\\xa0입력에\\xa0적절히\\xa0반응할\\xa0수\\xa0있습니다.\\\\n이게 특히 좋은 것이 기존에 llm chain에서 하려고 하면 runnable 로 계속 감싸고 감싸는 구조를 만들었던 기억이 있는데, 이렇게 관리를 해준다는 게 너무 좋은 것 같습니다.\\\\nCoordination\\\\nLangGraph는\\xa0에이전트가\\xa0올바른\\xa0순서로\\xa0실행되고\\xa0필요한\\xa0정보가\\xa0원활하게\\xa0교환되도록\\xa0보장합니다.\\xa0이는\\xa0여러\\xa0에이전트가\\xa0협력하여\\xa0공동의\\xa0목표를\\xa0달성해야\\xa0하는\\xa0복잡한\\xa0애플리케이션에서\\xa0필수적입니다.\\xa0데이터\\xa0흐름과\\xa0작업\\xa0순서를\\xa0관리함으로써\\xa0LangGraph는\\xa0개발자가\\xa0에이전트\\xa0조정의\\xa0복잡한\\xa0세부\\xa0사항보다는\\xa0애플리케이션의\\xa0고수준\\xa0논리에\\xa0집중할\\xa0수\\xa0있게\\xa0합니다.\\\\n왜 써야 하는가? [...] Simplified\\xa0development\\\\nLangGraph는\\xa0상태\\xa0관리\\xa0및\\xa0에이전트\\xa0조정과\\xa0관련된\\xa0복잡성을\\xa0추상화합니다.\\xa0따라서\\xa0개발자는\\xa0데이터\\xa0일관성과\\xa0올바른\\xa0실행\\xa0순서를\\xa0보장하는\\xa0기본\\xa0메커니즘에\\xa0대해\\xa0걱정하지\\xa0않고\\xa0워크플로와\\xa0로직을\\xa0정의할\\xa0수\\xa0있습니다.\\xa0이러한\\xa0간소화는\\xa0개발\\xa0속도를\\xa0높이고\\xa0오류\\xa0발생\\xa0가능성을\\xa0줄여줍니다.\\xa0정말\\xa0혁신적입니다!\\\\n아직 익숙하지 않지만, 익숙해지면 편리할 것 같은 구조인 것 같습니다.\\\\nFlexibility\\\\nLangGraph를\\xa0사용하면\\xa0개발자는\\xa0자신의\\xa0에이전트\\xa0로직과\\xa0통신\\xa0프로토콜을\\xa0정의할\\xa0수\\xa0있는\\xa0유연성을\\xa0갖게\\xa0됩니다.\\xa0이를\\xa0통해\\xa0특정\\xa0용도에\\xa0맞춘\\xa0맞춤형\\xa0애플리케이션을\\xa0쉽게\\xa0만들\\xa0수\\xa0있습니다.\\xa0다양한\\xa0유형의\\xa0사용자\\xa0요청을\\xa0처리할\\xa0수\\xa0있는\\xa0챗봇이\\xa0필요하든,\\xa0복잡한\\xa0작업을\\xa0수행하는\\xa0멀티\\xa0에이전트\\xa0시스템이\\xa0필요하든,\\xa0LangGraph는\\xa0필요한\\xa0도구를\\xa0제공합니다.\\xa0창의력을\\xa0마음껏\\xa0발휘할\\xa0수\\xa0있습니다.\\\\nScalability [...] LangGraph는\\xa0LLM을\\xa0사용하여\\xa0상태를\\xa0유지하고\\xa0여러\\xa0에이전트를\\xa0포함한\\xa0애플리케이션을\\xa0쉽게\\xa0만들\\xa0수\\xa0있도록\\xa0도와줍니다.\\xa0이\\xa0도구는\\xa0LangChain의\\xa0기능을\\xa0확장하여,\\xa0복잡한\\xa0에이전트\\xa0런타임\\xa0개발에\\xa0필수적인\\xa0순환\\xa0그래프를\\xa0만들고\\xa0관리할\\xa0수\\xa0있는\\xa0기능을\\xa0추가합니다.\\xa0LangGraph의\\xa0핵심\\xa0개념에는\\xa0그래프\\xa0구조,\\xa0상태\\xa0관리\\xa0및\\xa0조정이\\xa0포함됩니다.\\\\nGraph\\xa0structure\\\\nLangGraph에서는 각 노드가 LLM 에이전트를 나타내고, edge는 이 에이전트들 간의 통신 채널입니다.\\\\n이 구조는 각 에이전트가 특정 작업을 수행하고 필요에 따라 다른 에이전트에 정보를 전달하는 명확하고 관리 가능한 워크플로를 허용합니다.\\\\nState\\xa0management\", \"score\": 0.8682137}, {\"title\": \"랭그래프란? LangGraph 쉬운설명 - AI 알리미\", \"url\": \"https://ai-inform.tistory.com/entry/%EB%9E%AD%EA%B7%B8%EB%9E%98%ED%94%84%EB%9E%80-LangGraph-%EC%89%AC%EC%9A%B4%EC%84%A4%EB%AA%85\", \"content\": \"랭그래프는 다음과 같은 장점을 제공합니다. 효율적인 개발. 복잡한 멀티 에이전트 시스템을 쉽고 빠르게 개발할 수 있도록 도와줍니다. 유지보수 용이성.\", \"score\": 0.79522943}]', name='tavily_search_results_json', id='3f863947-1b96-40b4-9c20-828aba9909c1', tool_call_id='call_kw5nE4KI2vnltxNMK7zfWMz5', artifact={'query': 'LangGraph AI 에이전트 개발 특징', 'follow_up_questions': None, 'answer': None, 'images': [], 'results': [{'url': 'https://data-newbie.tistory.com/997', 'title': 'LangGraph) LangGraph에 대한 개념과 간단한 예시 만들어보기', 'content': 'LangGraph의\\xa0두드러진\\xa0특징\\xa0중\\xa0하나는\\xa0자동\\xa0상태\\xa0관리\\xa0기능입니다.\\xa0이\\xa0기능을\\xa0통해\\xa0여러\\xa0상호작용에\\xa0걸쳐\\xa0정보를\\xa0추적하고\\xa0유지할\\xa0수\\xa0있습니다.\\xa0에이전트가\\xa0작업을\\xa0수행함에\\xa0따라\\xa0상태가\\xa0동적으로\\xa0업데이트되어\\xa0시스템이\\xa0컨텍스트를\\xa0유지하고\\xa0새로운\\xa0입력에\\xa0적절히\\xa0반응할\\xa0수\\xa0있습니다.\\n이게 특히 좋은 것이 기존에 llm chain에서 하려고 하면 runnable 로 계속 감싸고 감싸는 구조를 만들었던 기억이 있는데, 이렇게 관리를 해준다는 게 너무 좋은 것 같습니다.\\nCoordination\\nLangGraph는\\xa0에이전트가\\xa0올바른\\xa0순서로\\xa0실행되고\\xa0필요한\\xa0정보가\\xa0원활하게\\xa0교환되도록\\xa0보장합니다.\\xa0이는\\xa0여러\\xa0에이전트가\\xa0협력하여\\xa0공동의\\xa0목표를\\xa0달성해야\\xa0하는\\xa0복잡한\\xa0애플리케이션에서\\xa0필수적입니다.\\xa0데이터\\xa0흐름과\\xa0작업\\xa0순서를\\xa0관리함으로써\\xa0LangGraph는\\xa0개발자가\\xa0에이전트\\xa0조정의\\xa0복잡한\\xa0세부\\xa0사항보다는\\xa0애플리케이션의\\xa0고수준\\xa0논리에\\xa0집중할\\xa0수\\xa0있게\\xa0합니다.\\n왜 써야 하는가? [...] Simplified\\xa0development\\nLangGraph는\\xa0상태\\xa0관리\\xa0및\\xa0에이전트\\xa0조정과\\xa0관련된\\xa0복잡성을\\xa0추상화합니다.\\xa0따라서\\xa0개발자는\\xa0데이터\\xa0일관성과\\xa0올바른\\xa0실행\\xa0순서를\\xa0보장하는\\xa0기본\\xa0메커니즘에\\xa0대해\\xa0걱정하지\\xa0않고\\xa0워크플로와\\xa0로직을\\xa0정의할\\xa0수\\xa0있습니다.\\xa0이러한\\xa0간소화는\\xa0개발\\xa0속도를\\xa0높이고\\xa0오류\\xa0발생\\xa0가능성을\\xa0줄여줍니다.\\xa0정말\\xa0혁신적입니다!\\n아직 익숙하지 않지만, 익숙해지면 편리할 것 같은 구조인 것 같습니다.\\nFlexibility\\nLangGraph를\\xa0사용하면\\xa0개발자는\\xa0자신의\\xa0에이전트\\xa0로직과\\xa0통신\\xa0프로토콜을\\xa0정의할\\xa0수\\xa0있는\\xa0유연성을\\xa0갖게\\xa0됩니다.\\xa0이를\\xa0통해\\xa0특정\\xa0용도에\\xa0맞춘\\xa0맞춤형\\xa0애플리케이션을\\xa0쉽게\\xa0만들\\xa0수\\xa0있습니다.\\xa0다양한\\xa0유형의\\xa0사용자\\xa0요청을\\xa0처리할\\xa0수\\xa0있는\\xa0챗봇이\\xa0필요하든,\\xa0복잡한\\xa0작업을\\xa0수행하는\\xa0멀티\\xa0에이전트\\xa0시스템이\\xa0필요하든,\\xa0LangGraph는\\xa0필요한\\xa0도구를\\xa0제공합니다.\\xa0창의력을\\xa0마음껏\\xa0발휘할\\xa0수\\xa0있습니다.\\nScalability [...] LangGraph는\\xa0LLM을\\xa0사용하여\\xa0상태를\\xa0유지하고\\xa0여러\\xa0에이전트를\\xa0포함한\\xa0애플리케이션을\\xa0쉽게\\xa0만들\\xa0수\\xa0있도록\\xa0도와줍니다.\\xa0이\\xa0도구는\\xa0LangChain의\\xa0기능을\\xa0확장하여,\\xa0복잡한\\xa0에이전트\\xa0런타임\\xa0개발에\\xa0필수적인\\xa0순환\\xa0그래프를\\xa0만들고\\xa0관리할\\xa0수\\xa0있는\\xa0기능을\\xa0추가합니다.\\xa0LangGraph의\\xa0핵심\\xa0개념에는\\xa0그래프\\xa0구조,\\xa0상태\\xa0관리\\xa0및\\xa0조정이\\xa0포함됩니다.\\nGraph\\xa0structure\\nLangGraph에서는 각 노드가 LLM 에이전트를 나타내고, edge는 이 에이전트들 간의 통신 채널입니다.\\n이 구조는 각 에이전트가 특정 작업을 수행하고 필요에 따라 다른 에이전트에 정보를 전달하는 명확하고 관리 가능한 워크플로를 허용합니다.\\nState\\xa0management', 'score': 0.8682137, 'raw_content': None}, {'url': 'https://ai-inform.tistory.com/entry/%EB%9E%AD%EA%B7%B8%EB%9E%98%ED%94%84%EB%9E%80-LangGraph-%EC%89%AC%EC%9A%B4%EC%84%A4%EB%AA%85', 'title': '랭그래프란? LangGraph 쉬운설명 - AI 알리미', 'content': '랭그래프는 다음과 같은 장점을 제공합니다. 효율적인 개발. 복잡한 멀티 에이전트 시스템을 쉽고 빠르게 개발할 수 있도록 도와줍니다. 유지보수 용이성.', 'score': 0.79522943, 'raw_content': None}], 'response_time': 1.08}),\n",
      " AIMessage(content='LangGraph는 AI 에이전트를 개발하는 데 있어 여러 유용한 특징을 제공합니다. 다음은 주요 특징입니다:\\n\\n1. **자동 상태 관리**: LangGraph는 여러 상호작용에 걸쳐 정보를 추적하고 유지할 수 있는 자동 상태 관리 기능을 제공합니다. 이 기능은 에이전트가 작업을 수행하면서 동적으로 상태를 업데이트할 수 있게 해주어, 시스템이 컨텍스트를 유지하고 새로운 입력에 적절히 반응할 수 있도록 돕습니다.\\n\\n2. **조정(Coordination)**: 여러 에이전트가 올바른 순서로 실행되고 필요 정보를 원활하게 교환할 수 있도록 보장합니다. 이는 복잡한 애플리케이션에서 필수적이며, 개발자가 에이전트 조정의 복잡한 세부 사항보다는 애플리케이션의 고수준 논리에 집중할 수 있게 합니다.\\n\\n3. **개발 간소화**: 상태 관리와 에이전트 조정과 관련된 복잡성을 추상화하여 개발자가 워크플로와 로직을 쉽게 정의할 수 있게 돕습니다. 이로 인해 개발 속도가 높아지고 오류 발생 가능성이 줄어듭니다.\\n\\n4. **유연성**: 개발자는 자신만의 에이전트 로직과 통신 프로토콜을 정의할 수 있는 유연성을 갖게 되어 특정 용도에 맞춘 맞춤형 애플리케이션을 쉽게 만들 수 있습니다.\\n\\n5. **확장성(Scalability)**: LangGraph는 LLM을 사용하여 상태를 유지하고 여러 에이전트를 포함한 애플리케이션을 쉽게 만들 수 있도록 지원합니다. 이는 복잡한 에이전트 런타임 개발에 필수적인 순환 그래프를 만들고 관리할 수 있는 기능을 포함합니다.\\n\\n6. **그래프 구조**: 각 노드는 LLM 에이전트를 나타내며, 각 에이전트 간의 통신 채널은 엣지로 표현됩니다. 이를 통해 각 에이전트가 특정 작업을 수행하고 필요한 정보를 다른 에이전트에 전달하는 명확하고 관리 가능한 워크플로를 구성할 수 있습니다.\\n\\n이러한 특징들을 통해 LangGraph는 복잡한 멀티 에이전트 시스템을 효율적으로 개발하고 유지보수할 수 있도록 도와줍니다.', additional_kwargs={'refusal': None}, response_metadata={'token_usage': {'completion_tokens': 511, 'prompt_tokens': 1324, 'total_tokens': 1835, 'completion_tokens_details': {'accepted_prediction_tokens': 0, 'audio_tokens': 0, 'reasoning_tokens': 0, 'rejected_prediction_tokens': 0}, 'prompt_tokens_details': {'audio_tokens': 0, 'cached_tokens': 1152}}, 'model_name': 'gpt-4o-mini-2024-07-18', 'system_fingerprint': 'fp_44added55e', 'id': 'chatcmpl-BLOoutycEK2ct8TlVfDGq0pWuyduI', 'finish_reason': 'stop', 'logprobs': None}, id='run-965dd8d3-e382-429e-a33b-1814298fba2d-0', usage_metadata={'input_tokens': 1324, 'output_tokens': 511, 'total_tokens': 1835, 'input_token_details': {'audio': 0, 'cache_read': 1152}, 'output_token_details': {'audio': 0, 'reasoning': 0}}),\n",
      " HumanMessage(content='AI 에이전트 개발을 위한 기술 선택에 대한 전문가의 지원이 필요해요. 지원 요청을 해도 될까요?', additional_kwargs={}, response_metadata={}, id='5942901e-42a7-4f58-a70b-fb362a519aa2'),\n",
      " AIMessage(content='', additional_kwargs={'tool_calls': [{'id': 'call_PU4gbhgtOTp196yjQEeTXw6F', 'function': {'arguments': '{\"query\":\"AI 에이전트 개발을 위한 기술 선택에 대한 전문가 지원 요청\"}', 'name': 'human_assist'}, 'type': 'function'}], 'refusal': None}, response_metadata={'token_usage': {'completion_tokens': 31, 'prompt_tokens': 1869, 'total_tokens': 1900, 'completion_tokens_details': {'accepted_prediction_tokens': 0, 'audio_tokens': 0, 'reasoning_tokens': 0, 'rejected_prediction_tokens': 0}, 'prompt_tokens_details': {'audio_tokens': 0, 'cached_tokens': 1792}}, 'model_name': 'gpt-4o-mini-2024-07-18', 'system_fingerprint': 'fp_44added55e', 'id': 'chatcmpl-BLOp3abJAMbh8i92uo0U2hYreJZAO', 'finish_reason': 'tool_calls', 'logprobs': None}, id='run-7b73ae9e-b3eb-4879-ba61-08ea209a9974-0', tool_calls=[{'name': 'human_assist', 'args': {'query': 'AI 에이전트 개발을 위한 기술 선택에 대한 전문가 지원 요청'}, 'id': 'call_PU4gbhgtOTp196yjQEeTXw6F', 'type': 'tool_call'}], usage_metadata={'input_tokens': 1869, 'output_tokens': 31, 'total_tokens': 1900, 'input_token_details': {'audio': 0, 'cache_read': 1792}, 'output_token_details': {'audio': 0, 'reasoning': 0}}),\n",
      " ToolMessage(content='네, 물론입니다. AI 에이전트 개발을 위한 기술 선택에 대한 지원을 해드리겠습니다. 우선 LangGraph를 사용하는 것에 대해 어떻게 생각하시나요? LangGraph는 AI 에이전트를 개발하는 데 매우 유용한 도구입니다. ', name='human_assist', id='bd11487b-ba31-459c-9b70-3d1eab8d5ea2', tool_call_id='call_PU4gbhgtOTp196yjQEeTXw6F'),\n",
      " AIMessage(content='AI 에이전트 개발을 위한 기술 선택에 대해 전문가의 지원을 요청하는 것은 좋은 접근입니다. LangGraph와 같은 도구는 많은 장점을 제공하므로, 이러한 도구를 활용하는 것이 한 가지 옵션이 될 수 있습니다. 추가적으로 어떤 특정 요구 사항이나 목표가 있는지에 따라 적절한 기술 스택을 선택하는 데 도움이 될 수 있습니다. \\n\\n필요한 지원이나 질문이 있다면 언제든지 말씀해 주세요!', additional_kwargs={'refusal': None}, response_metadata={'token_usage': {'completion_tokens': 99, 'prompt_tokens': 1966, 'total_tokens': 2065, 'completion_tokens_details': {'accepted_prediction_tokens': 0, 'audio_tokens': 0, 'reasoning_tokens': 0, 'rejected_prediction_tokens': 0}, 'prompt_tokens_details': {'audio_tokens': 0, 'cached_tokens': 1792}}, 'model_name': 'gpt-4o-mini-2024-07-18', 'system_fingerprint': 'fp_44added55e', 'id': 'chatcmpl-BLOp5Il59CSQW8y9NNGLAeFpQ7ol0', 'finish_reason': 'stop', 'logprobs': None}, id='run-efa8a6cf-8bff-4ac3-b746-e55393e89863-0', usage_metadata={'input_tokens': 1966, 'output_tokens': 99, 'total_tokens': 2065, 'input_token_details': {'audio': 0, 'cache_read': 1792}, 'output_token_details': {'audio': 0, 'reasoning': 0}}),\n",
      " HumanMessage(content='앞서 추천해주신 기술의 시장성은 어떤가요?', additional_kwargs={}, response_metadata={}, id='fb39a161-b188-458d-a0a7-5df3ed9ca888'),\n",
      " AIMessage(content='', additional_kwargs={'tool_calls': [{'id': 'call_onjHwmAZaj1J8xO0fSfYlaLs', 'function': {'arguments': '{\"query\":\"LangGraph 시장성 AI 에이전트 기술\"}', 'name': 'tavily_search_results_json'}, 'type': 'function'}], 'refusal': None}, response_metadata={'token_usage': {'completion_tokens': 28, 'prompt_tokens': 2086, 'total_tokens': 2114, 'completion_tokens_details': {'accepted_prediction_tokens': 0, 'audio_tokens': 0, 'reasoning_tokens': 0, 'rejected_prediction_tokens': 0}, 'prompt_tokens_details': {'audio_tokens': 0, 'cached_tokens': 2048}}, 'model_name': 'gpt-4o-mini-2024-07-18', 'system_fingerprint': 'fp_44added55e', 'id': 'chatcmpl-BLOp7lsjUxloXistAvRFXHQpYghyC', 'finish_reason': 'tool_calls', 'logprobs': None}, id='run-51eaf1bf-f7d0-4cf6-800d-9e22e919efd3-0', tool_calls=[{'name': 'tavily_search_results_json', 'args': {'query': 'LangGraph 시장성 AI 에이전트 기술'}, 'id': 'call_onjHwmAZaj1J8xO0fSfYlaLs', 'type': 'tool_call'}], usage_metadata={'input_tokens': 2086, 'output_tokens': 28, 'total_tokens': 2114, 'input_token_details': {'audio': 0, 'cache_read': 2048}, 'output_token_details': {'audio': 0, 'reasoning': 0}}),\n",
      " ToolMessage(content='[{\"title\": \"(LangChain) LangGraph Tutorial - AI 에이전트 구축을 위한 그래프 ...\", \"url\": \"https://jjnomad.tistory.com/64\", \"content\": \"LangGraph를 사용하여 프로젝트 구조부터 시작하여, 그래프의 정의, 노드 연결, 실행까지 AI 에이전트를 구축하는 과정을 단계별로 설명합니다.\", \"score\": 0.6021791}, {\"title\": \"LangChain Agent vs LangGraph: Super-Sub 에이전트 구조 구현 비교\", \"url\": \"https://shoney.tistory.com/entry/LangChain-Agent-vs-LangGraph-Super-Sub-%EC%97%90%EC%9D%B4%EC%A0%84%ED%8A%B8-%EA%B5%AC%EC%A1%B0-%EA%B5%AC%ED%98%84-%EB%B9%84%EA%B5%90\", \"content\": \"LangGraph는 LangChain 위에 구축된 라이브러리로, 복잡한 에이전트 시스템을 그래프 기반으로 구현할 수 있게 해줍니다. 구현 방식. LangGraph를 사용한\", \"score\": 0.5855047}]', name='tavily_search_results_json', id='4985685e-6575-4485-bdf6-1f5c1339d38d', tool_call_id='call_onjHwmAZaj1J8xO0fSfYlaLs', artifact={'query': 'LangGraph 시장성 AI 에이전트 기술', 'follow_up_questions': None, 'answer': None, 'images': [], 'results': [{'url': 'https://jjnomad.tistory.com/64', 'title': '(LangChain) LangGraph Tutorial - AI 에이전트 구축을 위한 그래프 ...', 'content': 'LangGraph를 사용하여 프로젝트 구조부터 시작하여, 그래프의 정의, 노드 연결, 실행까지 AI 에이전트를 구축하는 과정을 단계별로 설명합니다.', 'score': 0.6021791, 'raw_content': None}, {'url': 'https://shoney.tistory.com/entry/LangChain-Agent-vs-LangGraph-Super-Sub-%EC%97%90%EC%9D%B4%EC%A0%84%ED%8A%B8-%EA%B5%AC%EC%A1%B0-%EA%B5%AC%ED%98%84-%EB%B9%84%EA%B5%90', 'title': 'LangChain Agent vs LangGraph: Super-Sub 에이전트 구조 구현 비교', 'content': 'LangGraph는 LangChain 위에 구축된 라이브러리로, 복잡한 에이전트 시스템을 그래프 기반으로 구현할 수 있게 해줍니다. 구현 방식. LangGraph를 사용한', 'score': 0.5855047, 'raw_content': None}], 'response_time': 1.04}),\n",
      " AIMessage(content='LangGraph는 AI 에이전트를 구축하기 위한 유용한 도구로, 특히 복잡한 에이전트 시스템을 그래프 기반으로 구현할 수 있게 해줍니다. LangGraph는 LangChain 위에 구축된 라이브러리로, 다음과 같은 시장성을 가지고 있습니다:\\n\\n1. **복잡한 시스템 구현**: LangGraph는 다수의 에이전트 간의 상호작용을 효율적으로 관리할 수 있어, 복잡한 시스템을 요구하는 기업 및 연구자들에게 매우 유용합니다. 이 점에서 LangGraph의 수요는 지속적으로 증가할 수 있습니다.\\n\\n2. **그래프 기반 구조**: 그래프 기반의 접근은 에이전트 간의 관계와 흐름을 명확하게 시각화하고 관리할 수 있게 해 줍니다. 이는 특히 데이터 흐름을 중시하는 기업에 적합합니다.\\n\\n3. **기술의 발전**: AI와 머신러닝 기술이 발전하면서 에이전트 기술에 대한 수요가 급증하고 있습니다. LangGraph와 같은 기술은 이러한 시장의 흐름에 잘 부합합니다.\\n\\n4. **커뮤니티 및 지원**: LangGraph는 LangChain 커뮤니티의 발전과 함께 성장할 가능성이 높습니다. 빠른 피드백과 지속적인 업데이트는 기술의 시장성을 더욱 높일 수 있습니다.\\n\\n결론적으로, LangGraph는 현재와 미래의 AI 에이전트 개발을 위한 중요한 기술로 자리 잡을 가능성이 있으며, 관련 시장에서 긍정적인 반응을 얻을 것으로 보입니다.', additional_kwargs={'refusal': None}, response_metadata={'token_usage': {'completion_tokens': 335, 'prompt_tokens': 2386, 'total_tokens': 2721, 'completion_tokens_details': {'accepted_prediction_tokens': 0, 'audio_tokens': 0, 'reasoning_tokens': 0, 'rejected_prediction_tokens': 0}, 'prompt_tokens_details': {'audio_tokens': 0, 'cached_tokens': 1280}}, 'model_name': 'gpt-4o-mini-2024-07-18', 'system_fingerprint': 'fp_44added55e', 'id': 'chatcmpl-BLOp9yjXKy6jbVKLTPn6VRqVuaVsu', 'finish_reason': 'stop', 'logprobs': None}, id='run-036214fd-c32f-4a7e-a3b7-4232038ff5c2-0', usage_metadata={'input_tokens': 2386, 'output_tokens': 335, 'total_tokens': 2721, 'input_token_details': {'audio': 0, 'cache_read': 1280}, 'output_token_details': {'audio': 0, 'reasoning': 0}})]\n",
      "()\n"
     ]
    }
   ],
   "source": [
    "snapshot = graph.get_state(config)\n",
    "pprint(snapshot.values['messages'])\n",
    "print(snapshot.next)"
   ]
  },
  {
   "cell_type": "code",
   "execution_count": 21,
   "id": "7bb4dea4",
   "metadata": {},
   "outputs": [
    {
     "name": "stdout",
     "output_type": "stream",
     "text": [
      "\n"
     ]
    }
   ],
   "source": [
    "user_input4 = \"LangGraph의 메모리 기능 추가에 대한 전문가의 지원이 필요해요.\"\n",
    "state4 = {\"messages\": [HumanMessage(content=user_input4)]}\n",
    "response4 = graph.invoke(state4, config)\n",
    "\n",
    "print(response4[\"messages\"][-1].content)"
   ]
  },
  {
   "cell_type": "code",
   "execution_count": 22,
   "id": "162bd820",
   "metadata": {},
   "outputs": [
    {
     "name": "stdout",
     "output_type": "stream",
     "text": [
      "[HumanMessage(content='AI 에이전트 개발을 위한 LangGraph의 특징에 대해 설명해주세요.', additional_kwargs={}, response_metadata={}, id='1e71a8ce-8475-4c61-ba5a-04feff536834'),\n",
      " AIMessage(content='', additional_kwargs={'tool_calls': [{'id': 'call_kw5nE4KI2vnltxNMK7zfWMz5', 'function': {'arguments': '{\"query\":\"LangGraph AI 에이전트 개발 특징\"}', 'name': 'tavily_search_results_json'}, 'type': 'function'}], 'refusal': None}, response_metadata={'token_usage': {'completion_tokens': 27, 'prompt_tokens': 115, 'total_tokens': 142, 'completion_tokens_details': {'accepted_prediction_tokens': 0, 'audio_tokens': 0, 'reasoning_tokens': 0, 'rejected_prediction_tokens': 0}, 'prompt_tokens_details': {'audio_tokens': 0, 'cached_tokens': 0}}, 'model_name': 'gpt-4o-mini-2024-07-18', 'system_fingerprint': 'fp_44added55e', 'id': 'chatcmpl-BLOorp7WhQsDVVjhdTpJGUjoMz0je', 'finish_reason': 'tool_calls', 'logprobs': None}, id='run-fd4ee3f8-4bf2-4f63-9a61-42eb9c01b938-0', tool_calls=[{'name': 'tavily_search_results_json', 'args': {'query': 'LangGraph AI 에이전트 개발 특징'}, 'id': 'call_kw5nE4KI2vnltxNMK7zfWMz5', 'type': 'tool_call'}], usage_metadata={'input_tokens': 115, 'output_tokens': 27, 'total_tokens': 142, 'input_token_details': {'audio': 0, 'cache_read': 0}, 'output_token_details': {'audio': 0, 'reasoning': 0}}),\n",
      " ToolMessage(content='[{\"title\": \"LangGraph) LangGraph에 대한 개념과 간단한 예시 만들어보기\", \"url\": \"https://data-newbie.tistory.com/997\", \"content\": \"LangGraph의\\xa0두드러진\\xa0특징\\xa0중\\xa0하나는\\xa0자동\\xa0상태\\xa0관리\\xa0기능입니다.\\xa0이\\xa0기능을\\xa0통해\\xa0여러\\xa0상호작용에\\xa0걸쳐\\xa0정보를\\xa0추적하고\\xa0유지할\\xa0수\\xa0있습니다.\\xa0에이전트가\\xa0작업을\\xa0수행함에\\xa0따라\\xa0상태가\\xa0동적으로\\xa0업데이트되어\\xa0시스템이\\xa0컨텍스트를\\xa0유지하고\\xa0새로운\\xa0입력에\\xa0적절히\\xa0반응할\\xa0수\\xa0있습니다.\\\\n이게 특히 좋은 것이 기존에 llm chain에서 하려고 하면 runnable 로 계속 감싸고 감싸는 구조를 만들었던 기억이 있는데, 이렇게 관리를 해준다는 게 너무 좋은 것 같습니다.\\\\nCoordination\\\\nLangGraph는\\xa0에이전트가\\xa0올바른\\xa0순서로\\xa0실행되고\\xa0필요한\\xa0정보가\\xa0원활하게\\xa0교환되도록\\xa0보장합니다.\\xa0이는\\xa0여러\\xa0에이전트가\\xa0협력하여\\xa0공동의\\xa0목표를\\xa0달성해야\\xa0하는\\xa0복잡한\\xa0애플리케이션에서\\xa0필수적입니다.\\xa0데이터\\xa0흐름과\\xa0작업\\xa0순서를\\xa0관리함으로써\\xa0LangGraph는\\xa0개발자가\\xa0에이전트\\xa0조정의\\xa0복잡한\\xa0세부\\xa0사항보다는\\xa0애플리케이션의\\xa0고수준\\xa0논리에\\xa0집중할\\xa0수\\xa0있게\\xa0합니다.\\\\n왜 써야 하는가? [...] Simplified\\xa0development\\\\nLangGraph는\\xa0상태\\xa0관리\\xa0및\\xa0에이전트\\xa0조정과\\xa0관련된\\xa0복잡성을\\xa0추상화합니다.\\xa0따라서\\xa0개발자는\\xa0데이터\\xa0일관성과\\xa0올바른\\xa0실행\\xa0순서를\\xa0보장하는\\xa0기본\\xa0메커니즘에\\xa0대해\\xa0걱정하지\\xa0않고\\xa0워크플로와\\xa0로직을\\xa0정의할\\xa0수\\xa0있습니다.\\xa0이러한\\xa0간소화는\\xa0개발\\xa0속도를\\xa0높이고\\xa0오류\\xa0발생\\xa0가능성을\\xa0줄여줍니다.\\xa0정말\\xa0혁신적입니다!\\\\n아직 익숙하지 않지만, 익숙해지면 편리할 것 같은 구조인 것 같습니다.\\\\nFlexibility\\\\nLangGraph를\\xa0사용하면\\xa0개발자는\\xa0자신의\\xa0에이전트\\xa0로직과\\xa0통신\\xa0프로토콜을\\xa0정의할\\xa0수\\xa0있는\\xa0유연성을\\xa0갖게\\xa0됩니다.\\xa0이를\\xa0통해\\xa0특정\\xa0용도에\\xa0맞춘\\xa0맞춤형\\xa0애플리케이션을\\xa0쉽게\\xa0만들\\xa0수\\xa0있습니다.\\xa0다양한\\xa0유형의\\xa0사용자\\xa0요청을\\xa0처리할\\xa0수\\xa0있는\\xa0챗봇이\\xa0필요하든,\\xa0복잡한\\xa0작업을\\xa0수행하는\\xa0멀티\\xa0에이전트\\xa0시스템이\\xa0필요하든,\\xa0LangGraph는\\xa0필요한\\xa0도구를\\xa0제공합니다.\\xa0창의력을\\xa0마음껏\\xa0발휘할\\xa0수\\xa0있습니다.\\\\nScalability [...] LangGraph는\\xa0LLM을\\xa0사용하여\\xa0상태를\\xa0유지하고\\xa0여러\\xa0에이전트를\\xa0포함한\\xa0애플리케이션을\\xa0쉽게\\xa0만들\\xa0수\\xa0있도록\\xa0도와줍니다.\\xa0이\\xa0도구는\\xa0LangChain의\\xa0기능을\\xa0확장하여,\\xa0복잡한\\xa0에이전트\\xa0런타임\\xa0개발에\\xa0필수적인\\xa0순환\\xa0그래프를\\xa0만들고\\xa0관리할\\xa0수\\xa0있는\\xa0기능을\\xa0추가합니다.\\xa0LangGraph의\\xa0핵심\\xa0개념에는\\xa0그래프\\xa0구조,\\xa0상태\\xa0관리\\xa0및\\xa0조정이\\xa0포함됩니다.\\\\nGraph\\xa0structure\\\\nLangGraph에서는 각 노드가 LLM 에이전트를 나타내고, edge는 이 에이전트들 간의 통신 채널입니다.\\\\n이 구조는 각 에이전트가 특정 작업을 수행하고 필요에 따라 다른 에이전트에 정보를 전달하는 명확하고 관리 가능한 워크플로를 허용합니다.\\\\nState\\xa0management\", \"score\": 0.8682137}, {\"title\": \"랭그래프란? LangGraph 쉬운설명 - AI 알리미\", \"url\": \"https://ai-inform.tistory.com/entry/%EB%9E%AD%EA%B7%B8%EB%9E%98%ED%94%84%EB%9E%80-LangGraph-%EC%89%AC%EC%9A%B4%EC%84%A4%EB%AA%85\", \"content\": \"랭그래프는 다음과 같은 장점을 제공합니다. 효율적인 개발. 복잡한 멀티 에이전트 시스템을 쉽고 빠르게 개발할 수 있도록 도와줍니다. 유지보수 용이성.\", \"score\": 0.79522943}]', name='tavily_search_results_json', id='3f863947-1b96-40b4-9c20-828aba9909c1', tool_call_id='call_kw5nE4KI2vnltxNMK7zfWMz5', artifact={'query': 'LangGraph AI 에이전트 개발 특징', 'follow_up_questions': None, 'answer': None, 'images': [], 'results': [{'url': 'https://data-newbie.tistory.com/997', 'title': 'LangGraph) LangGraph에 대한 개념과 간단한 예시 만들어보기', 'content': 'LangGraph의\\xa0두드러진\\xa0특징\\xa0중\\xa0하나는\\xa0자동\\xa0상태\\xa0관리\\xa0기능입니다.\\xa0이\\xa0기능을\\xa0통해\\xa0여러\\xa0상호작용에\\xa0걸쳐\\xa0정보를\\xa0추적하고\\xa0유지할\\xa0수\\xa0있습니다.\\xa0에이전트가\\xa0작업을\\xa0수행함에\\xa0따라\\xa0상태가\\xa0동적으로\\xa0업데이트되어\\xa0시스템이\\xa0컨텍스트를\\xa0유지하고\\xa0새로운\\xa0입력에\\xa0적절히\\xa0반응할\\xa0수\\xa0있습니다.\\n이게 특히 좋은 것이 기존에 llm chain에서 하려고 하면 runnable 로 계속 감싸고 감싸는 구조를 만들었던 기억이 있는데, 이렇게 관리를 해준다는 게 너무 좋은 것 같습니다.\\nCoordination\\nLangGraph는\\xa0에이전트가\\xa0올바른\\xa0순서로\\xa0실행되고\\xa0필요한\\xa0정보가\\xa0원활하게\\xa0교환되도록\\xa0보장합니다.\\xa0이는\\xa0여러\\xa0에이전트가\\xa0협력하여\\xa0공동의\\xa0목표를\\xa0달성해야\\xa0하는\\xa0복잡한\\xa0애플리케이션에서\\xa0필수적입니다.\\xa0데이터\\xa0흐름과\\xa0작업\\xa0순서를\\xa0관리함으로써\\xa0LangGraph는\\xa0개발자가\\xa0에이전트\\xa0조정의\\xa0복잡한\\xa0세부\\xa0사항보다는\\xa0애플리케이션의\\xa0고수준\\xa0논리에\\xa0집중할\\xa0수\\xa0있게\\xa0합니다.\\n왜 써야 하는가? [...] Simplified\\xa0development\\nLangGraph는\\xa0상태\\xa0관리\\xa0및\\xa0에이전트\\xa0조정과\\xa0관련된\\xa0복잡성을\\xa0추상화합니다.\\xa0따라서\\xa0개발자는\\xa0데이터\\xa0일관성과\\xa0올바른\\xa0실행\\xa0순서를\\xa0보장하는\\xa0기본\\xa0메커니즘에\\xa0대해\\xa0걱정하지\\xa0않고\\xa0워크플로와\\xa0로직을\\xa0정의할\\xa0수\\xa0있습니다.\\xa0이러한\\xa0간소화는\\xa0개발\\xa0속도를\\xa0높이고\\xa0오류\\xa0발생\\xa0가능성을\\xa0줄여줍니다.\\xa0정말\\xa0혁신적입니다!\\n아직 익숙하지 않지만, 익숙해지면 편리할 것 같은 구조인 것 같습니다.\\nFlexibility\\nLangGraph를\\xa0사용하면\\xa0개발자는\\xa0자신의\\xa0에이전트\\xa0로직과\\xa0통신\\xa0프로토콜을\\xa0정의할\\xa0수\\xa0있는\\xa0유연성을\\xa0갖게\\xa0됩니다.\\xa0이를\\xa0통해\\xa0특정\\xa0용도에\\xa0맞춘\\xa0맞춤형\\xa0애플리케이션을\\xa0쉽게\\xa0만들\\xa0수\\xa0있습니다.\\xa0다양한\\xa0유형의\\xa0사용자\\xa0요청을\\xa0처리할\\xa0수\\xa0있는\\xa0챗봇이\\xa0필요하든,\\xa0복잡한\\xa0작업을\\xa0수행하는\\xa0멀티\\xa0에이전트\\xa0시스템이\\xa0필요하든,\\xa0LangGraph는\\xa0필요한\\xa0도구를\\xa0제공합니다.\\xa0창의력을\\xa0마음껏\\xa0발휘할\\xa0수\\xa0있습니다.\\nScalability [...] LangGraph는\\xa0LLM을\\xa0사용하여\\xa0상태를\\xa0유지하고\\xa0여러\\xa0에이전트를\\xa0포함한\\xa0애플리케이션을\\xa0쉽게\\xa0만들\\xa0수\\xa0있도록\\xa0도와줍니다.\\xa0이\\xa0도구는\\xa0LangChain의\\xa0기능을\\xa0확장하여,\\xa0복잡한\\xa0에이전트\\xa0런타임\\xa0개발에\\xa0필수적인\\xa0순환\\xa0그래프를\\xa0만들고\\xa0관리할\\xa0수\\xa0있는\\xa0기능을\\xa0추가합니다.\\xa0LangGraph의\\xa0핵심\\xa0개념에는\\xa0그래프\\xa0구조,\\xa0상태\\xa0관리\\xa0및\\xa0조정이\\xa0포함됩니다.\\nGraph\\xa0structure\\nLangGraph에서는 각 노드가 LLM 에이전트를 나타내고, edge는 이 에이전트들 간의 통신 채널입니다.\\n이 구조는 각 에이전트가 특정 작업을 수행하고 필요에 따라 다른 에이전트에 정보를 전달하는 명확하고 관리 가능한 워크플로를 허용합니다.\\nState\\xa0management', 'score': 0.8682137, 'raw_content': None}, {'url': 'https://ai-inform.tistory.com/entry/%EB%9E%AD%EA%B7%B8%EB%9E%98%ED%94%84%EB%9E%80-LangGraph-%EC%89%AC%EC%9A%B4%EC%84%A4%EB%AA%85', 'title': '랭그래프란? LangGraph 쉬운설명 - AI 알리미', 'content': '랭그래프는 다음과 같은 장점을 제공합니다. 효율적인 개발. 복잡한 멀티 에이전트 시스템을 쉽고 빠르게 개발할 수 있도록 도와줍니다. 유지보수 용이성.', 'score': 0.79522943, 'raw_content': None}], 'response_time': 1.08}),\n",
      " AIMessage(content='LangGraph는 AI 에이전트를 개발하는 데 있어 여러 유용한 특징을 제공합니다. 다음은 주요 특징입니다:\\n\\n1. **자동 상태 관리**: LangGraph는 여러 상호작용에 걸쳐 정보를 추적하고 유지할 수 있는 자동 상태 관리 기능을 제공합니다. 이 기능은 에이전트가 작업을 수행하면서 동적으로 상태를 업데이트할 수 있게 해주어, 시스템이 컨텍스트를 유지하고 새로운 입력에 적절히 반응할 수 있도록 돕습니다.\\n\\n2. **조정(Coordination)**: 여러 에이전트가 올바른 순서로 실행되고 필요 정보를 원활하게 교환할 수 있도록 보장합니다. 이는 복잡한 애플리케이션에서 필수적이며, 개발자가 에이전트 조정의 복잡한 세부 사항보다는 애플리케이션의 고수준 논리에 집중할 수 있게 합니다.\\n\\n3. **개발 간소화**: 상태 관리와 에이전트 조정과 관련된 복잡성을 추상화하여 개발자가 워크플로와 로직을 쉽게 정의할 수 있게 돕습니다. 이로 인해 개발 속도가 높아지고 오류 발생 가능성이 줄어듭니다.\\n\\n4. **유연성**: 개발자는 자신만의 에이전트 로직과 통신 프로토콜을 정의할 수 있는 유연성을 갖게 되어 특정 용도에 맞춘 맞춤형 애플리케이션을 쉽게 만들 수 있습니다.\\n\\n5. **확장성(Scalability)**: LangGraph는 LLM을 사용하여 상태를 유지하고 여러 에이전트를 포함한 애플리케이션을 쉽게 만들 수 있도록 지원합니다. 이는 복잡한 에이전트 런타임 개발에 필수적인 순환 그래프를 만들고 관리할 수 있는 기능을 포함합니다.\\n\\n6. **그래프 구조**: 각 노드는 LLM 에이전트를 나타내며, 각 에이전트 간의 통신 채널은 엣지로 표현됩니다. 이를 통해 각 에이전트가 특정 작업을 수행하고 필요한 정보를 다른 에이전트에 전달하는 명확하고 관리 가능한 워크플로를 구성할 수 있습니다.\\n\\n이러한 특징들을 통해 LangGraph는 복잡한 멀티 에이전트 시스템을 효율적으로 개발하고 유지보수할 수 있도록 도와줍니다.', additional_kwargs={'refusal': None}, response_metadata={'token_usage': {'completion_tokens': 511, 'prompt_tokens': 1324, 'total_tokens': 1835, 'completion_tokens_details': {'accepted_prediction_tokens': 0, 'audio_tokens': 0, 'reasoning_tokens': 0, 'rejected_prediction_tokens': 0}, 'prompt_tokens_details': {'audio_tokens': 0, 'cached_tokens': 1152}}, 'model_name': 'gpt-4o-mini-2024-07-18', 'system_fingerprint': 'fp_44added55e', 'id': 'chatcmpl-BLOoutycEK2ct8TlVfDGq0pWuyduI', 'finish_reason': 'stop', 'logprobs': None}, id='run-965dd8d3-e382-429e-a33b-1814298fba2d-0', usage_metadata={'input_tokens': 1324, 'output_tokens': 511, 'total_tokens': 1835, 'input_token_details': {'audio': 0, 'cache_read': 1152}, 'output_token_details': {'audio': 0, 'reasoning': 0}}),\n",
      " HumanMessage(content='AI 에이전트 개발을 위한 기술 선택에 대한 전문가의 지원이 필요해요. 지원 요청을 해도 될까요?', additional_kwargs={}, response_metadata={}, id='5942901e-42a7-4f58-a70b-fb362a519aa2'),\n",
      " AIMessage(content='', additional_kwargs={'tool_calls': [{'id': 'call_PU4gbhgtOTp196yjQEeTXw6F', 'function': {'arguments': '{\"query\":\"AI 에이전트 개발을 위한 기술 선택에 대한 전문가 지원 요청\"}', 'name': 'human_assist'}, 'type': 'function'}], 'refusal': None}, response_metadata={'token_usage': {'completion_tokens': 31, 'prompt_tokens': 1869, 'total_tokens': 1900, 'completion_tokens_details': {'accepted_prediction_tokens': 0, 'audio_tokens': 0, 'reasoning_tokens': 0, 'rejected_prediction_tokens': 0}, 'prompt_tokens_details': {'audio_tokens': 0, 'cached_tokens': 1792}}, 'model_name': 'gpt-4o-mini-2024-07-18', 'system_fingerprint': 'fp_44added55e', 'id': 'chatcmpl-BLOp3abJAMbh8i92uo0U2hYreJZAO', 'finish_reason': 'tool_calls', 'logprobs': None}, id='run-7b73ae9e-b3eb-4879-ba61-08ea209a9974-0', tool_calls=[{'name': 'human_assist', 'args': {'query': 'AI 에이전트 개발을 위한 기술 선택에 대한 전문가 지원 요청'}, 'id': 'call_PU4gbhgtOTp196yjQEeTXw6F', 'type': 'tool_call'}], usage_metadata={'input_tokens': 1869, 'output_tokens': 31, 'total_tokens': 1900, 'input_token_details': {'audio': 0, 'cache_read': 1792}, 'output_token_details': {'audio': 0, 'reasoning': 0}}),\n",
      " ToolMessage(content='네, 물론입니다. AI 에이전트 개발을 위한 기술 선택에 대한 지원을 해드리겠습니다. 우선 LangGraph를 사용하는 것에 대해 어떻게 생각하시나요? LangGraph는 AI 에이전트를 개발하는 데 매우 유용한 도구입니다. ', name='human_assist', id='bd11487b-ba31-459c-9b70-3d1eab8d5ea2', tool_call_id='call_PU4gbhgtOTp196yjQEeTXw6F'),\n",
      " AIMessage(content='AI 에이전트 개발을 위한 기술 선택에 대해 전문가의 지원을 요청하는 것은 좋은 접근입니다. LangGraph와 같은 도구는 많은 장점을 제공하므로, 이러한 도구를 활용하는 것이 한 가지 옵션이 될 수 있습니다. 추가적으로 어떤 특정 요구 사항이나 목표가 있는지에 따라 적절한 기술 스택을 선택하는 데 도움이 될 수 있습니다. \\n\\n필요한 지원이나 질문이 있다면 언제든지 말씀해 주세요!', additional_kwargs={'refusal': None}, response_metadata={'token_usage': {'completion_tokens': 99, 'prompt_tokens': 1966, 'total_tokens': 2065, 'completion_tokens_details': {'accepted_prediction_tokens': 0, 'audio_tokens': 0, 'reasoning_tokens': 0, 'rejected_prediction_tokens': 0}, 'prompt_tokens_details': {'audio_tokens': 0, 'cached_tokens': 1792}}, 'model_name': 'gpt-4o-mini-2024-07-18', 'system_fingerprint': 'fp_44added55e', 'id': 'chatcmpl-BLOp5Il59CSQW8y9NNGLAeFpQ7ol0', 'finish_reason': 'stop', 'logprobs': None}, id='run-efa8a6cf-8bff-4ac3-b746-e55393e89863-0', usage_metadata={'input_tokens': 1966, 'output_tokens': 99, 'total_tokens': 2065, 'input_token_details': {'audio': 0, 'cache_read': 1792}, 'output_token_details': {'audio': 0, 'reasoning': 0}}),\n",
      " HumanMessage(content='앞서 추천해주신 기술의 시장성은 어떤가요?', additional_kwargs={}, response_metadata={}, id='fb39a161-b188-458d-a0a7-5df3ed9ca888'),\n",
      " AIMessage(content='', additional_kwargs={'tool_calls': [{'id': 'call_onjHwmAZaj1J8xO0fSfYlaLs', 'function': {'arguments': '{\"query\":\"LangGraph 시장성 AI 에이전트 기술\"}', 'name': 'tavily_search_results_json'}, 'type': 'function'}], 'refusal': None}, response_metadata={'token_usage': {'completion_tokens': 28, 'prompt_tokens': 2086, 'total_tokens': 2114, 'completion_tokens_details': {'accepted_prediction_tokens': 0, 'audio_tokens': 0, 'reasoning_tokens': 0, 'rejected_prediction_tokens': 0}, 'prompt_tokens_details': {'audio_tokens': 0, 'cached_tokens': 2048}}, 'model_name': 'gpt-4o-mini-2024-07-18', 'system_fingerprint': 'fp_44added55e', 'id': 'chatcmpl-BLOp7lsjUxloXistAvRFXHQpYghyC', 'finish_reason': 'tool_calls', 'logprobs': None}, id='run-51eaf1bf-f7d0-4cf6-800d-9e22e919efd3-0', tool_calls=[{'name': 'tavily_search_results_json', 'args': {'query': 'LangGraph 시장성 AI 에이전트 기술'}, 'id': 'call_onjHwmAZaj1J8xO0fSfYlaLs', 'type': 'tool_call'}], usage_metadata={'input_tokens': 2086, 'output_tokens': 28, 'total_tokens': 2114, 'input_token_details': {'audio': 0, 'cache_read': 2048}, 'output_token_details': {'audio': 0, 'reasoning': 0}}),\n",
      " ToolMessage(content='[{\"title\": \"(LangChain) LangGraph Tutorial - AI 에이전트 구축을 위한 그래프 ...\", \"url\": \"https://jjnomad.tistory.com/64\", \"content\": \"LangGraph를 사용하여 프로젝트 구조부터 시작하여, 그래프의 정의, 노드 연결, 실행까지 AI 에이전트를 구축하는 과정을 단계별로 설명합니다.\", \"score\": 0.6021791}, {\"title\": \"LangChain Agent vs LangGraph: Super-Sub 에이전트 구조 구현 비교\", \"url\": \"https://shoney.tistory.com/entry/LangChain-Agent-vs-LangGraph-Super-Sub-%EC%97%90%EC%9D%B4%EC%A0%84%ED%8A%B8-%EA%B5%AC%EC%A1%B0-%EA%B5%AC%ED%98%84-%EB%B9%84%EA%B5%90\", \"content\": \"LangGraph는 LangChain 위에 구축된 라이브러리로, 복잡한 에이전트 시스템을 그래프 기반으로 구현할 수 있게 해줍니다. 구현 방식. LangGraph를 사용한\", \"score\": 0.5855047}]', name='tavily_search_results_json', id='4985685e-6575-4485-bdf6-1f5c1339d38d', tool_call_id='call_onjHwmAZaj1J8xO0fSfYlaLs', artifact={'query': 'LangGraph 시장성 AI 에이전트 기술', 'follow_up_questions': None, 'answer': None, 'images': [], 'results': [{'url': 'https://jjnomad.tistory.com/64', 'title': '(LangChain) LangGraph Tutorial - AI 에이전트 구축을 위한 그래프 ...', 'content': 'LangGraph를 사용하여 프로젝트 구조부터 시작하여, 그래프의 정의, 노드 연결, 실행까지 AI 에이전트를 구축하는 과정을 단계별로 설명합니다.', 'score': 0.6021791, 'raw_content': None}, {'url': 'https://shoney.tistory.com/entry/LangChain-Agent-vs-LangGraph-Super-Sub-%EC%97%90%EC%9D%B4%EC%A0%84%ED%8A%B8-%EA%B5%AC%EC%A1%B0-%EA%B5%AC%ED%98%84-%EB%B9%84%EA%B5%90', 'title': 'LangChain Agent vs LangGraph: Super-Sub 에이전트 구조 구현 비교', 'content': 'LangGraph는 LangChain 위에 구축된 라이브러리로, 복잡한 에이전트 시스템을 그래프 기반으로 구현할 수 있게 해줍니다. 구현 방식. LangGraph를 사용한', 'score': 0.5855047, 'raw_content': None}], 'response_time': 1.04}),\n",
      " AIMessage(content='LangGraph는 AI 에이전트를 구축하기 위한 유용한 도구로, 특히 복잡한 에이전트 시스템을 그래프 기반으로 구현할 수 있게 해줍니다. LangGraph는 LangChain 위에 구축된 라이브러리로, 다음과 같은 시장성을 가지고 있습니다:\\n\\n1. **복잡한 시스템 구현**: LangGraph는 다수의 에이전트 간의 상호작용을 효율적으로 관리할 수 있어, 복잡한 시스템을 요구하는 기업 및 연구자들에게 매우 유용합니다. 이 점에서 LangGraph의 수요는 지속적으로 증가할 수 있습니다.\\n\\n2. **그래프 기반 구조**: 그래프 기반의 접근은 에이전트 간의 관계와 흐름을 명확하게 시각화하고 관리할 수 있게 해 줍니다. 이는 특히 데이터 흐름을 중시하는 기업에 적합합니다.\\n\\n3. **기술의 발전**: AI와 머신러닝 기술이 발전하면서 에이전트 기술에 대한 수요가 급증하고 있습니다. LangGraph와 같은 기술은 이러한 시장의 흐름에 잘 부합합니다.\\n\\n4. **커뮤니티 및 지원**: LangGraph는 LangChain 커뮤니티의 발전과 함께 성장할 가능성이 높습니다. 빠른 피드백과 지속적인 업데이트는 기술의 시장성을 더욱 높일 수 있습니다.\\n\\n결론적으로, LangGraph는 현재와 미래의 AI 에이전트 개발을 위한 중요한 기술로 자리 잡을 가능성이 있으며, 관련 시장에서 긍정적인 반응을 얻을 것으로 보입니다.', additional_kwargs={'refusal': None}, response_metadata={'token_usage': {'completion_tokens': 335, 'prompt_tokens': 2386, 'total_tokens': 2721, 'completion_tokens_details': {'accepted_prediction_tokens': 0, 'audio_tokens': 0, 'reasoning_tokens': 0, 'rejected_prediction_tokens': 0}, 'prompt_tokens_details': {'audio_tokens': 0, 'cached_tokens': 1280}}, 'model_name': 'gpt-4o-mini-2024-07-18', 'system_fingerprint': 'fp_44added55e', 'id': 'chatcmpl-BLOp9yjXKy6jbVKLTPn6VRqVuaVsu', 'finish_reason': 'stop', 'logprobs': None}, id='run-036214fd-c32f-4a7e-a3b7-4232038ff5c2-0', usage_metadata={'input_tokens': 2386, 'output_tokens': 335, 'total_tokens': 2721, 'input_token_details': {'audio': 0, 'cache_read': 1280}, 'output_token_details': {'audio': 0, 'reasoning': 0}}),\n",
      " HumanMessage(content='LangGraph의 메모리 기능 추가에 대한 전문가의 지원이 필요해요.', additional_kwargs={}, response_metadata={}, id='9959840a-9655-4e28-8e1b-233732e65258'),\n",
      " AIMessage(content='', additional_kwargs={'tool_calls': [{'id': 'call_uxU2BbiE5kx6TeWFrV1xXBkz', 'function': {'arguments': '{\"query\":\"LangGraph의 메모리 기능 추가에 대한 전문가 지원 요청\"}', 'name': 'human_assist'}, 'type': 'function'}], 'refusal': None}, response_metadata={'token_usage': {'completion_tokens': 29, 'prompt_tokens': 2745, 'total_tokens': 2774, 'completion_tokens_details': {'accepted_prediction_tokens': 0, 'audio_tokens': 0, 'reasoning_tokens': 0, 'rejected_prediction_tokens': 0}, 'prompt_tokens_details': {'audio_tokens': 0, 'cached_tokens': 2688}}, 'model_name': 'gpt-4o-mini-2024-07-18', 'system_fingerprint': 'fp_44added55e', 'id': 'chatcmpl-BLOpIhcpW8ROtl8g9thXoyQJMjnTo', 'finish_reason': 'tool_calls', 'logprobs': None}, id='run-646b9e97-2b41-4733-a135-cd57a941ece0-0', tool_calls=[{'name': 'human_assist', 'args': {'query': 'LangGraph의 메모리 기능 추가에 대한 전문가 지원 요청'}, 'id': 'call_uxU2BbiE5kx6TeWFrV1xXBkz', 'type': 'tool_call'}], usage_metadata={'input_tokens': 2745, 'output_tokens': 29, 'total_tokens': 2774, 'input_token_details': {'audio': 0, 'cache_read': 2688}, 'output_token_details': {'audio': 0, 'reasoning': 0}})]\n",
      "('tools',)\n"
     ]
    }
   ],
   "source": [
    "snapshot = graph.get_state(config)\n",
    "if 'messages' in snapshot.values:\n",
    "\tpprint(snapshot.values['messages'])\n",
    "else:\n",
    "\tprint(\"No messages found in the snapshot.\")\n",
    "print(snapshot.next)"
   ]
  },
  {
   "cell_type": "code",
   "execution_count": 23,
   "id": "f1f57201",
   "metadata": {},
   "outputs": [
    {
     "name": "stdout",
     "output_type": "stream",
     "text": [
      "LangGraph의 메모리 기능 추가에 대한 전문가의 지원을 받는 것은 훌륭한 결정입니다. 여기에서 고려할 수 있는 몇 가지 요소를 소개합니다:\n",
      "\n",
      "1. **MemorySaver**: LangGraph에서는 메모리 기반 체크포인터인 MemorySaver를 사용하여 각 대화의 상태를 메모리에 임시로 저장하고 관리할 수 있습니다. 이를 통해 챗봇이 이전 대화 내용을 기억하고, 다음 상호작용 시에도 맥락을 유지하도록 할 수 있습니다.\n",
      "\n",
      "2. **영구적인 상태 관리**: 실제 운영 환경에서는 더 영구적인 상태 관리를 위해 데이터베이스 기반 체크포인터(예: SqliteSaver 또는 PostgresSaver)를 사용하는 것이 권장됩니다. 이러한 데이터베이스를 사용하면 대화 상태를 보다 안정적으로 저장할 수 있습니다.\n",
      "\n",
      "3. **추가적인 기능**: 메모리 기능을 추가할 때는 대화의 맥락을 유지하기 위한 다양한 전략을 설계할 수 있습니다. 예를 들어, 대화 내용의 요약을 저장하거나, 사용자 세션 데이터를 관리하는 등의 방법이 있습니다.\n",
      "\n",
      "이와 같은 메모리 기능 추가를 통해 LangGraph 기반의 AI 에이전트는 더욱 풍부하고 유용한 사용자 경험을 제공할 수 있습니다. 추가적인 지원이나 질문이 필요하면 언제든지 말씀해 주세요!\n"
     ]
    }
   ],
   "source": [
    "human_response = (\n",
    "    \"MemorySaver는 메모리 기반의 체크포인터로, 각 대화의 상태를 메모리에 임시로 저장하고 관리합니다. \"\n",
    "    \"이를 통해 챗봇은 이전 대화 내용을 기억하고 다음 번 상호작용 시에도 맥락을 유지한 상태로 대화를 진행할 수 있습니다. \"\n",
    "    \"실제 운영 환경에서는 더 영구적인 상태 관리를 위해 데이터베이스 기반 체크포인터(예: SqliteSaver 또는 PostgresSaver)를 사용하는 것이 권장됩니다.\"\n",
    ")\n",
    "\n",
    "human_command = Command(resume={\"data\": human_response})\n",
    "response = graph.invoke(human_command, config)\n",
    "print(response[\"messages\"][-1].content)"
   ]
  },
  {
   "cell_type": "code",
   "execution_count": 24,
   "id": "786c63c5",
   "metadata": {},
   "outputs": [
    {
     "name": "stdout",
     "output_type": "stream",
     "text": [
      "[HumanMessage(content='AI 에이전트 개발을 위한 LangGraph의 특징에 대해 설명해주세요.', additional_kwargs={}, response_metadata={}, id='1e71a8ce-8475-4c61-ba5a-04feff536834'),\n",
      " AIMessage(content='', additional_kwargs={'tool_calls': [{'id': 'call_kw5nE4KI2vnltxNMK7zfWMz5', 'function': {'arguments': '{\"query\":\"LangGraph AI 에이전트 개발 특징\"}', 'name': 'tavily_search_results_json'}, 'type': 'function'}], 'refusal': None}, response_metadata={'token_usage': {'completion_tokens': 27, 'prompt_tokens': 115, 'total_tokens': 142, 'completion_tokens_details': {'accepted_prediction_tokens': 0, 'audio_tokens': 0, 'reasoning_tokens': 0, 'rejected_prediction_tokens': 0}, 'prompt_tokens_details': {'audio_tokens': 0, 'cached_tokens': 0}}, 'model_name': 'gpt-4o-mini-2024-07-18', 'system_fingerprint': 'fp_44added55e', 'id': 'chatcmpl-BLOorp7WhQsDVVjhdTpJGUjoMz0je', 'finish_reason': 'tool_calls', 'logprobs': None}, id='run-fd4ee3f8-4bf2-4f63-9a61-42eb9c01b938-0', tool_calls=[{'name': 'tavily_search_results_json', 'args': {'query': 'LangGraph AI 에이전트 개발 특징'}, 'id': 'call_kw5nE4KI2vnltxNMK7zfWMz5', 'type': 'tool_call'}], usage_metadata={'input_tokens': 115, 'output_tokens': 27, 'total_tokens': 142, 'input_token_details': {'audio': 0, 'cache_read': 0}, 'output_token_details': {'audio': 0, 'reasoning': 0}}),\n",
      " ToolMessage(content='[{\"title\": \"LangGraph) LangGraph에 대한 개념과 간단한 예시 만들어보기\", \"url\": \"https://data-newbie.tistory.com/997\", \"content\": \"LangGraph의\\xa0두드러진\\xa0특징\\xa0중\\xa0하나는\\xa0자동\\xa0상태\\xa0관리\\xa0기능입니다.\\xa0이\\xa0기능을\\xa0통해\\xa0여러\\xa0상호작용에\\xa0걸쳐\\xa0정보를\\xa0추적하고\\xa0유지할\\xa0수\\xa0있습니다.\\xa0에이전트가\\xa0작업을\\xa0수행함에\\xa0따라\\xa0상태가\\xa0동적으로\\xa0업데이트되어\\xa0시스템이\\xa0컨텍스트를\\xa0유지하고\\xa0새로운\\xa0입력에\\xa0적절히\\xa0반응할\\xa0수\\xa0있습니다.\\\\n이게 특히 좋은 것이 기존에 llm chain에서 하려고 하면 runnable 로 계속 감싸고 감싸는 구조를 만들었던 기억이 있는데, 이렇게 관리를 해준다는 게 너무 좋은 것 같습니다.\\\\nCoordination\\\\nLangGraph는\\xa0에이전트가\\xa0올바른\\xa0순서로\\xa0실행되고\\xa0필요한\\xa0정보가\\xa0원활하게\\xa0교환되도록\\xa0보장합니다.\\xa0이는\\xa0여러\\xa0에이전트가\\xa0협력하여\\xa0공동의\\xa0목표를\\xa0달성해야\\xa0하는\\xa0복잡한\\xa0애플리케이션에서\\xa0필수적입니다.\\xa0데이터\\xa0흐름과\\xa0작업\\xa0순서를\\xa0관리함으로써\\xa0LangGraph는\\xa0개발자가\\xa0에이전트\\xa0조정의\\xa0복잡한\\xa0세부\\xa0사항보다는\\xa0애플리케이션의\\xa0고수준\\xa0논리에\\xa0집중할\\xa0수\\xa0있게\\xa0합니다.\\\\n왜 써야 하는가? [...] Simplified\\xa0development\\\\nLangGraph는\\xa0상태\\xa0관리\\xa0및\\xa0에이전트\\xa0조정과\\xa0관련된\\xa0복잡성을\\xa0추상화합니다.\\xa0따라서\\xa0개발자는\\xa0데이터\\xa0일관성과\\xa0올바른\\xa0실행\\xa0순서를\\xa0보장하는\\xa0기본\\xa0메커니즘에\\xa0대해\\xa0걱정하지\\xa0않고\\xa0워크플로와\\xa0로직을\\xa0정의할\\xa0수\\xa0있습니다.\\xa0이러한\\xa0간소화는\\xa0개발\\xa0속도를\\xa0높이고\\xa0오류\\xa0발생\\xa0가능성을\\xa0줄여줍니다.\\xa0정말\\xa0혁신적입니다!\\\\n아직 익숙하지 않지만, 익숙해지면 편리할 것 같은 구조인 것 같습니다.\\\\nFlexibility\\\\nLangGraph를\\xa0사용하면\\xa0개발자는\\xa0자신의\\xa0에이전트\\xa0로직과\\xa0통신\\xa0프로토콜을\\xa0정의할\\xa0수\\xa0있는\\xa0유연성을\\xa0갖게\\xa0됩니다.\\xa0이를\\xa0통해\\xa0특정\\xa0용도에\\xa0맞춘\\xa0맞춤형\\xa0애플리케이션을\\xa0쉽게\\xa0만들\\xa0수\\xa0있습니다.\\xa0다양한\\xa0유형의\\xa0사용자\\xa0요청을\\xa0처리할\\xa0수\\xa0있는\\xa0챗봇이\\xa0필요하든,\\xa0복잡한\\xa0작업을\\xa0수행하는\\xa0멀티\\xa0에이전트\\xa0시스템이\\xa0필요하든,\\xa0LangGraph는\\xa0필요한\\xa0도구를\\xa0제공합니다.\\xa0창의력을\\xa0마음껏\\xa0발휘할\\xa0수\\xa0있습니다.\\\\nScalability [...] LangGraph는\\xa0LLM을\\xa0사용하여\\xa0상태를\\xa0유지하고\\xa0여러\\xa0에이전트를\\xa0포함한\\xa0애플리케이션을\\xa0쉽게\\xa0만들\\xa0수\\xa0있도록\\xa0도와줍니다.\\xa0이\\xa0도구는\\xa0LangChain의\\xa0기능을\\xa0확장하여,\\xa0복잡한\\xa0에이전트\\xa0런타임\\xa0개발에\\xa0필수적인\\xa0순환\\xa0그래프를\\xa0만들고\\xa0관리할\\xa0수\\xa0있는\\xa0기능을\\xa0추가합니다.\\xa0LangGraph의\\xa0핵심\\xa0개념에는\\xa0그래프\\xa0구조,\\xa0상태\\xa0관리\\xa0및\\xa0조정이\\xa0포함됩니다.\\\\nGraph\\xa0structure\\\\nLangGraph에서는 각 노드가 LLM 에이전트를 나타내고, edge는 이 에이전트들 간의 통신 채널입니다.\\\\n이 구조는 각 에이전트가 특정 작업을 수행하고 필요에 따라 다른 에이전트에 정보를 전달하는 명확하고 관리 가능한 워크플로를 허용합니다.\\\\nState\\xa0management\", \"score\": 0.8682137}, {\"title\": \"랭그래프란? LangGraph 쉬운설명 - AI 알리미\", \"url\": \"https://ai-inform.tistory.com/entry/%EB%9E%AD%EA%B7%B8%EB%9E%98%ED%94%84%EB%9E%80-LangGraph-%EC%89%AC%EC%9A%B4%EC%84%A4%EB%AA%85\", \"content\": \"랭그래프는 다음과 같은 장점을 제공합니다. 효율적인 개발. 복잡한 멀티 에이전트 시스템을 쉽고 빠르게 개발할 수 있도록 도와줍니다. 유지보수 용이성.\", \"score\": 0.79522943}]', name='tavily_search_results_json', id='3f863947-1b96-40b4-9c20-828aba9909c1', tool_call_id='call_kw5nE4KI2vnltxNMK7zfWMz5', artifact={'query': 'LangGraph AI 에이전트 개발 특징', 'follow_up_questions': None, 'answer': None, 'images': [], 'results': [{'url': 'https://data-newbie.tistory.com/997', 'title': 'LangGraph) LangGraph에 대한 개념과 간단한 예시 만들어보기', 'content': 'LangGraph의\\xa0두드러진\\xa0특징\\xa0중\\xa0하나는\\xa0자동\\xa0상태\\xa0관리\\xa0기능입니다.\\xa0이\\xa0기능을\\xa0통해\\xa0여러\\xa0상호작용에\\xa0걸쳐\\xa0정보를\\xa0추적하고\\xa0유지할\\xa0수\\xa0있습니다.\\xa0에이전트가\\xa0작업을\\xa0수행함에\\xa0따라\\xa0상태가\\xa0동적으로\\xa0업데이트되어\\xa0시스템이\\xa0컨텍스트를\\xa0유지하고\\xa0새로운\\xa0입력에\\xa0적절히\\xa0반응할\\xa0수\\xa0있습니다.\\n이게 특히 좋은 것이 기존에 llm chain에서 하려고 하면 runnable 로 계속 감싸고 감싸는 구조를 만들었던 기억이 있는데, 이렇게 관리를 해준다는 게 너무 좋은 것 같습니다.\\nCoordination\\nLangGraph는\\xa0에이전트가\\xa0올바른\\xa0순서로\\xa0실행되고\\xa0필요한\\xa0정보가\\xa0원활하게\\xa0교환되도록\\xa0보장합니다.\\xa0이는\\xa0여러\\xa0에이전트가\\xa0협력하여\\xa0공동의\\xa0목표를\\xa0달성해야\\xa0하는\\xa0복잡한\\xa0애플리케이션에서\\xa0필수적입니다.\\xa0데이터\\xa0흐름과\\xa0작업\\xa0순서를\\xa0관리함으로써\\xa0LangGraph는\\xa0개발자가\\xa0에이전트\\xa0조정의\\xa0복잡한\\xa0세부\\xa0사항보다는\\xa0애플리케이션의\\xa0고수준\\xa0논리에\\xa0집중할\\xa0수\\xa0있게\\xa0합니다.\\n왜 써야 하는가? [...] Simplified\\xa0development\\nLangGraph는\\xa0상태\\xa0관리\\xa0및\\xa0에이전트\\xa0조정과\\xa0관련된\\xa0복잡성을\\xa0추상화합니다.\\xa0따라서\\xa0개발자는\\xa0데이터\\xa0일관성과\\xa0올바른\\xa0실행\\xa0순서를\\xa0보장하는\\xa0기본\\xa0메커니즘에\\xa0대해\\xa0걱정하지\\xa0않고\\xa0워크플로와\\xa0로직을\\xa0정의할\\xa0수\\xa0있습니다.\\xa0이러한\\xa0간소화는\\xa0개발\\xa0속도를\\xa0높이고\\xa0오류\\xa0발생\\xa0가능성을\\xa0줄여줍니다.\\xa0정말\\xa0혁신적입니다!\\n아직 익숙하지 않지만, 익숙해지면 편리할 것 같은 구조인 것 같습니다.\\nFlexibility\\nLangGraph를\\xa0사용하면\\xa0개발자는\\xa0자신의\\xa0에이전트\\xa0로직과\\xa0통신\\xa0프로토콜을\\xa0정의할\\xa0수\\xa0있는\\xa0유연성을\\xa0갖게\\xa0됩니다.\\xa0이를\\xa0통해\\xa0특정\\xa0용도에\\xa0맞춘\\xa0맞춤형\\xa0애플리케이션을\\xa0쉽게\\xa0만들\\xa0수\\xa0있습니다.\\xa0다양한\\xa0유형의\\xa0사용자\\xa0요청을\\xa0처리할\\xa0수\\xa0있는\\xa0챗봇이\\xa0필요하든,\\xa0복잡한\\xa0작업을\\xa0수행하는\\xa0멀티\\xa0에이전트\\xa0시스템이\\xa0필요하든,\\xa0LangGraph는\\xa0필요한\\xa0도구를\\xa0제공합니다.\\xa0창의력을\\xa0마음껏\\xa0발휘할\\xa0수\\xa0있습니다.\\nScalability [...] LangGraph는\\xa0LLM을\\xa0사용하여\\xa0상태를\\xa0유지하고\\xa0여러\\xa0에이전트를\\xa0포함한\\xa0애플리케이션을\\xa0쉽게\\xa0만들\\xa0수\\xa0있도록\\xa0도와줍니다.\\xa0이\\xa0도구는\\xa0LangChain의\\xa0기능을\\xa0확장하여,\\xa0복잡한\\xa0에이전트\\xa0런타임\\xa0개발에\\xa0필수적인\\xa0순환\\xa0그래프를\\xa0만들고\\xa0관리할\\xa0수\\xa0있는\\xa0기능을\\xa0추가합니다.\\xa0LangGraph의\\xa0핵심\\xa0개념에는\\xa0그래프\\xa0구조,\\xa0상태\\xa0관리\\xa0및\\xa0조정이\\xa0포함됩니다.\\nGraph\\xa0structure\\nLangGraph에서는 각 노드가 LLM 에이전트를 나타내고, edge는 이 에이전트들 간의 통신 채널입니다.\\n이 구조는 각 에이전트가 특정 작업을 수행하고 필요에 따라 다른 에이전트에 정보를 전달하는 명확하고 관리 가능한 워크플로를 허용합니다.\\nState\\xa0management', 'score': 0.8682137, 'raw_content': None}, {'url': 'https://ai-inform.tistory.com/entry/%EB%9E%AD%EA%B7%B8%EB%9E%98%ED%94%84%EB%9E%80-LangGraph-%EC%89%AC%EC%9A%B4%EC%84%A4%EB%AA%85', 'title': '랭그래프란? LangGraph 쉬운설명 - AI 알리미', 'content': '랭그래프는 다음과 같은 장점을 제공합니다. 효율적인 개발. 복잡한 멀티 에이전트 시스템을 쉽고 빠르게 개발할 수 있도록 도와줍니다. 유지보수 용이성.', 'score': 0.79522943, 'raw_content': None}], 'response_time': 1.08}),\n",
      " AIMessage(content='LangGraph는 AI 에이전트를 개발하는 데 있어 여러 유용한 특징을 제공합니다. 다음은 주요 특징입니다:\\n\\n1. **자동 상태 관리**: LangGraph는 여러 상호작용에 걸쳐 정보를 추적하고 유지할 수 있는 자동 상태 관리 기능을 제공합니다. 이 기능은 에이전트가 작업을 수행하면서 동적으로 상태를 업데이트할 수 있게 해주어, 시스템이 컨텍스트를 유지하고 새로운 입력에 적절히 반응할 수 있도록 돕습니다.\\n\\n2. **조정(Coordination)**: 여러 에이전트가 올바른 순서로 실행되고 필요 정보를 원활하게 교환할 수 있도록 보장합니다. 이는 복잡한 애플리케이션에서 필수적이며, 개발자가 에이전트 조정의 복잡한 세부 사항보다는 애플리케이션의 고수준 논리에 집중할 수 있게 합니다.\\n\\n3. **개발 간소화**: 상태 관리와 에이전트 조정과 관련된 복잡성을 추상화하여 개발자가 워크플로와 로직을 쉽게 정의할 수 있게 돕습니다. 이로 인해 개발 속도가 높아지고 오류 발생 가능성이 줄어듭니다.\\n\\n4. **유연성**: 개발자는 자신만의 에이전트 로직과 통신 프로토콜을 정의할 수 있는 유연성을 갖게 되어 특정 용도에 맞춘 맞춤형 애플리케이션을 쉽게 만들 수 있습니다.\\n\\n5. **확장성(Scalability)**: LangGraph는 LLM을 사용하여 상태를 유지하고 여러 에이전트를 포함한 애플리케이션을 쉽게 만들 수 있도록 지원합니다. 이는 복잡한 에이전트 런타임 개발에 필수적인 순환 그래프를 만들고 관리할 수 있는 기능을 포함합니다.\\n\\n6. **그래프 구조**: 각 노드는 LLM 에이전트를 나타내며, 각 에이전트 간의 통신 채널은 엣지로 표현됩니다. 이를 통해 각 에이전트가 특정 작업을 수행하고 필요한 정보를 다른 에이전트에 전달하는 명확하고 관리 가능한 워크플로를 구성할 수 있습니다.\\n\\n이러한 특징들을 통해 LangGraph는 복잡한 멀티 에이전트 시스템을 효율적으로 개발하고 유지보수할 수 있도록 도와줍니다.', additional_kwargs={'refusal': None}, response_metadata={'token_usage': {'completion_tokens': 511, 'prompt_tokens': 1324, 'total_tokens': 1835, 'completion_tokens_details': {'accepted_prediction_tokens': 0, 'audio_tokens': 0, 'reasoning_tokens': 0, 'rejected_prediction_tokens': 0}, 'prompt_tokens_details': {'audio_tokens': 0, 'cached_tokens': 1152}}, 'model_name': 'gpt-4o-mini-2024-07-18', 'system_fingerprint': 'fp_44added55e', 'id': 'chatcmpl-BLOoutycEK2ct8TlVfDGq0pWuyduI', 'finish_reason': 'stop', 'logprobs': None}, id='run-965dd8d3-e382-429e-a33b-1814298fba2d-0', usage_metadata={'input_tokens': 1324, 'output_tokens': 511, 'total_tokens': 1835, 'input_token_details': {'audio': 0, 'cache_read': 1152}, 'output_token_details': {'audio': 0, 'reasoning': 0}}),\n",
      " HumanMessage(content='AI 에이전트 개발을 위한 기술 선택에 대한 전문가의 지원이 필요해요. 지원 요청을 해도 될까요?', additional_kwargs={}, response_metadata={}, id='5942901e-42a7-4f58-a70b-fb362a519aa2'),\n",
      " AIMessage(content='', additional_kwargs={'tool_calls': [{'id': 'call_PU4gbhgtOTp196yjQEeTXw6F', 'function': {'arguments': '{\"query\":\"AI 에이전트 개발을 위한 기술 선택에 대한 전문가 지원 요청\"}', 'name': 'human_assist'}, 'type': 'function'}], 'refusal': None}, response_metadata={'token_usage': {'completion_tokens': 31, 'prompt_tokens': 1869, 'total_tokens': 1900, 'completion_tokens_details': {'accepted_prediction_tokens': 0, 'audio_tokens': 0, 'reasoning_tokens': 0, 'rejected_prediction_tokens': 0}, 'prompt_tokens_details': {'audio_tokens': 0, 'cached_tokens': 1792}}, 'model_name': 'gpt-4o-mini-2024-07-18', 'system_fingerprint': 'fp_44added55e', 'id': 'chatcmpl-BLOp3abJAMbh8i92uo0U2hYreJZAO', 'finish_reason': 'tool_calls', 'logprobs': None}, id='run-7b73ae9e-b3eb-4879-ba61-08ea209a9974-0', tool_calls=[{'name': 'human_assist', 'args': {'query': 'AI 에이전트 개발을 위한 기술 선택에 대한 전문가 지원 요청'}, 'id': 'call_PU4gbhgtOTp196yjQEeTXw6F', 'type': 'tool_call'}], usage_metadata={'input_tokens': 1869, 'output_tokens': 31, 'total_tokens': 1900, 'input_token_details': {'audio': 0, 'cache_read': 1792}, 'output_token_details': {'audio': 0, 'reasoning': 0}}),\n",
      " ToolMessage(content='네, 물론입니다. AI 에이전트 개발을 위한 기술 선택에 대한 지원을 해드리겠습니다. 우선 LangGraph를 사용하는 것에 대해 어떻게 생각하시나요? LangGraph는 AI 에이전트를 개발하는 데 매우 유용한 도구입니다. ', name='human_assist', id='bd11487b-ba31-459c-9b70-3d1eab8d5ea2', tool_call_id='call_PU4gbhgtOTp196yjQEeTXw6F'),\n",
      " AIMessage(content='AI 에이전트 개발을 위한 기술 선택에 대해 전문가의 지원을 요청하는 것은 좋은 접근입니다. LangGraph와 같은 도구는 많은 장점을 제공하므로, 이러한 도구를 활용하는 것이 한 가지 옵션이 될 수 있습니다. 추가적으로 어떤 특정 요구 사항이나 목표가 있는지에 따라 적절한 기술 스택을 선택하는 데 도움이 될 수 있습니다. \\n\\n필요한 지원이나 질문이 있다면 언제든지 말씀해 주세요!', additional_kwargs={'refusal': None}, response_metadata={'token_usage': {'completion_tokens': 99, 'prompt_tokens': 1966, 'total_tokens': 2065, 'completion_tokens_details': {'accepted_prediction_tokens': 0, 'audio_tokens': 0, 'reasoning_tokens': 0, 'rejected_prediction_tokens': 0}, 'prompt_tokens_details': {'audio_tokens': 0, 'cached_tokens': 1792}}, 'model_name': 'gpt-4o-mini-2024-07-18', 'system_fingerprint': 'fp_44added55e', 'id': 'chatcmpl-BLOp5Il59CSQW8y9NNGLAeFpQ7ol0', 'finish_reason': 'stop', 'logprobs': None}, id='run-efa8a6cf-8bff-4ac3-b746-e55393e89863-0', usage_metadata={'input_tokens': 1966, 'output_tokens': 99, 'total_tokens': 2065, 'input_token_details': {'audio': 0, 'cache_read': 1792}, 'output_token_details': {'audio': 0, 'reasoning': 0}}),\n",
      " HumanMessage(content='앞서 추천해주신 기술의 시장성은 어떤가요?', additional_kwargs={}, response_metadata={}, id='fb39a161-b188-458d-a0a7-5df3ed9ca888'),\n",
      " AIMessage(content='', additional_kwargs={'tool_calls': [{'id': 'call_onjHwmAZaj1J8xO0fSfYlaLs', 'function': {'arguments': '{\"query\":\"LangGraph 시장성 AI 에이전트 기술\"}', 'name': 'tavily_search_results_json'}, 'type': 'function'}], 'refusal': None}, response_metadata={'token_usage': {'completion_tokens': 28, 'prompt_tokens': 2086, 'total_tokens': 2114, 'completion_tokens_details': {'accepted_prediction_tokens': 0, 'audio_tokens': 0, 'reasoning_tokens': 0, 'rejected_prediction_tokens': 0}, 'prompt_tokens_details': {'audio_tokens': 0, 'cached_tokens': 2048}}, 'model_name': 'gpt-4o-mini-2024-07-18', 'system_fingerprint': 'fp_44added55e', 'id': 'chatcmpl-BLOp7lsjUxloXistAvRFXHQpYghyC', 'finish_reason': 'tool_calls', 'logprobs': None}, id='run-51eaf1bf-f7d0-4cf6-800d-9e22e919efd3-0', tool_calls=[{'name': 'tavily_search_results_json', 'args': {'query': 'LangGraph 시장성 AI 에이전트 기술'}, 'id': 'call_onjHwmAZaj1J8xO0fSfYlaLs', 'type': 'tool_call'}], usage_metadata={'input_tokens': 2086, 'output_tokens': 28, 'total_tokens': 2114, 'input_token_details': {'audio': 0, 'cache_read': 2048}, 'output_token_details': {'audio': 0, 'reasoning': 0}}),\n",
      " ToolMessage(content='[{\"title\": \"(LangChain) LangGraph Tutorial - AI 에이전트 구축을 위한 그래프 ...\", \"url\": \"https://jjnomad.tistory.com/64\", \"content\": \"LangGraph를 사용하여 프로젝트 구조부터 시작하여, 그래프의 정의, 노드 연결, 실행까지 AI 에이전트를 구축하는 과정을 단계별로 설명합니다.\", \"score\": 0.6021791}, {\"title\": \"LangChain Agent vs LangGraph: Super-Sub 에이전트 구조 구현 비교\", \"url\": \"https://shoney.tistory.com/entry/LangChain-Agent-vs-LangGraph-Super-Sub-%EC%97%90%EC%9D%B4%EC%A0%84%ED%8A%B8-%EA%B5%AC%EC%A1%B0-%EA%B5%AC%ED%98%84-%EB%B9%84%EA%B5%90\", \"content\": \"LangGraph는 LangChain 위에 구축된 라이브러리로, 복잡한 에이전트 시스템을 그래프 기반으로 구현할 수 있게 해줍니다. 구현 방식. LangGraph를 사용한\", \"score\": 0.5855047}]', name='tavily_search_results_json', id='4985685e-6575-4485-bdf6-1f5c1339d38d', tool_call_id='call_onjHwmAZaj1J8xO0fSfYlaLs', artifact={'query': 'LangGraph 시장성 AI 에이전트 기술', 'follow_up_questions': None, 'answer': None, 'images': [], 'results': [{'url': 'https://jjnomad.tistory.com/64', 'title': '(LangChain) LangGraph Tutorial - AI 에이전트 구축을 위한 그래프 ...', 'content': 'LangGraph를 사용하여 프로젝트 구조부터 시작하여, 그래프의 정의, 노드 연결, 실행까지 AI 에이전트를 구축하는 과정을 단계별로 설명합니다.', 'score': 0.6021791, 'raw_content': None}, {'url': 'https://shoney.tistory.com/entry/LangChain-Agent-vs-LangGraph-Super-Sub-%EC%97%90%EC%9D%B4%EC%A0%84%ED%8A%B8-%EA%B5%AC%EC%A1%B0-%EA%B5%AC%ED%98%84-%EB%B9%84%EA%B5%90', 'title': 'LangChain Agent vs LangGraph: Super-Sub 에이전트 구조 구현 비교', 'content': 'LangGraph는 LangChain 위에 구축된 라이브러리로, 복잡한 에이전트 시스템을 그래프 기반으로 구현할 수 있게 해줍니다. 구현 방식. LangGraph를 사용한', 'score': 0.5855047, 'raw_content': None}], 'response_time': 1.04}),\n",
      " AIMessage(content='LangGraph는 AI 에이전트를 구축하기 위한 유용한 도구로, 특히 복잡한 에이전트 시스템을 그래프 기반으로 구현할 수 있게 해줍니다. LangGraph는 LangChain 위에 구축된 라이브러리로, 다음과 같은 시장성을 가지고 있습니다:\\n\\n1. **복잡한 시스템 구현**: LangGraph는 다수의 에이전트 간의 상호작용을 효율적으로 관리할 수 있어, 복잡한 시스템을 요구하는 기업 및 연구자들에게 매우 유용합니다. 이 점에서 LangGraph의 수요는 지속적으로 증가할 수 있습니다.\\n\\n2. **그래프 기반 구조**: 그래프 기반의 접근은 에이전트 간의 관계와 흐름을 명확하게 시각화하고 관리할 수 있게 해 줍니다. 이는 특히 데이터 흐름을 중시하는 기업에 적합합니다.\\n\\n3. **기술의 발전**: AI와 머신러닝 기술이 발전하면서 에이전트 기술에 대한 수요가 급증하고 있습니다. LangGraph와 같은 기술은 이러한 시장의 흐름에 잘 부합합니다.\\n\\n4. **커뮤니티 및 지원**: LangGraph는 LangChain 커뮤니티의 발전과 함께 성장할 가능성이 높습니다. 빠른 피드백과 지속적인 업데이트는 기술의 시장성을 더욱 높일 수 있습니다.\\n\\n결론적으로, LangGraph는 현재와 미래의 AI 에이전트 개발을 위한 중요한 기술로 자리 잡을 가능성이 있으며, 관련 시장에서 긍정적인 반응을 얻을 것으로 보입니다.', additional_kwargs={'refusal': None}, response_metadata={'token_usage': {'completion_tokens': 335, 'prompt_tokens': 2386, 'total_tokens': 2721, 'completion_tokens_details': {'accepted_prediction_tokens': 0, 'audio_tokens': 0, 'reasoning_tokens': 0, 'rejected_prediction_tokens': 0}, 'prompt_tokens_details': {'audio_tokens': 0, 'cached_tokens': 1280}}, 'model_name': 'gpt-4o-mini-2024-07-18', 'system_fingerprint': 'fp_44added55e', 'id': 'chatcmpl-BLOp9yjXKy6jbVKLTPn6VRqVuaVsu', 'finish_reason': 'stop', 'logprobs': None}, id='run-036214fd-c32f-4a7e-a3b7-4232038ff5c2-0', usage_metadata={'input_tokens': 2386, 'output_tokens': 335, 'total_tokens': 2721, 'input_token_details': {'audio': 0, 'cache_read': 1280}, 'output_token_details': {'audio': 0, 'reasoning': 0}}),\n",
      " HumanMessage(content='LangGraph의 메모리 기능 추가에 대한 전문가의 지원이 필요해요.', additional_kwargs={}, response_metadata={}, id='9959840a-9655-4e28-8e1b-233732e65258'),\n",
      " AIMessage(content='', additional_kwargs={'tool_calls': [{'id': 'call_uxU2BbiE5kx6TeWFrV1xXBkz', 'function': {'arguments': '{\"query\":\"LangGraph의 메모리 기능 추가에 대한 전문가 지원 요청\"}', 'name': 'human_assist'}, 'type': 'function'}], 'refusal': None}, response_metadata={'token_usage': {'completion_tokens': 29, 'prompt_tokens': 2745, 'total_tokens': 2774, 'completion_tokens_details': {'accepted_prediction_tokens': 0, 'audio_tokens': 0, 'reasoning_tokens': 0, 'rejected_prediction_tokens': 0}, 'prompt_tokens_details': {'audio_tokens': 0, 'cached_tokens': 2688}}, 'model_name': 'gpt-4o-mini-2024-07-18', 'system_fingerprint': 'fp_44added55e', 'id': 'chatcmpl-BLOpIhcpW8ROtl8g9thXoyQJMjnTo', 'finish_reason': 'tool_calls', 'logprobs': None}, id='run-646b9e97-2b41-4733-a135-cd57a941ece0-0', tool_calls=[{'name': 'human_assist', 'args': {'query': 'LangGraph의 메모리 기능 추가에 대한 전문가 지원 요청'}, 'id': 'call_uxU2BbiE5kx6TeWFrV1xXBkz', 'type': 'tool_call'}], usage_metadata={'input_tokens': 2745, 'output_tokens': 29, 'total_tokens': 2774, 'input_token_details': {'audio': 0, 'cache_read': 2688}, 'output_token_details': {'audio': 0, 'reasoning': 0}}),\n",
      " ToolMessage(content='MemorySaver는 메모리 기반의 체크포인터로, 각 대화의 상태를 메모리에 임시로 저장하고 관리합니다. 이를 통해 챗봇은 이전 대화 내용을 기억하고 다음 번 상호작용 시에도 맥락을 유지한 상태로 대화를 진행할 수 있습니다. 실제 운영 환경에서는 더 영구적인 상태 관리를 위해 데이터베이스 기반 체크포인터(예: SqliteSaver 또는 PostgresSaver)를 사용하는 것이 권장됩니다.', name='human_assist', id='4b4f0187-3f0a-4121-b268-5eb401c38a8e', tool_call_id='call_uxU2BbiE5kx6TeWFrV1xXBkz'),\n",
      " AIMessage(content='LangGraph의 메모리 기능 추가에 대한 전문가의 지원을 받는 것은 훌륭한 결정입니다. 여기에서 고려할 수 있는 몇 가지 요소를 소개합니다:\\n\\n1. **MemorySaver**: LangGraph에서는 메모리 기반 체크포인터인 MemorySaver를 사용하여 각 대화의 상태를 메모리에 임시로 저장하고 관리할 수 있습니다. 이를 통해 챗봇이 이전 대화 내용을 기억하고, 다음 상호작용 시에도 맥락을 유지하도록 할 수 있습니다.\\n\\n2. **영구적인 상태 관리**: 실제 운영 환경에서는 더 영구적인 상태 관리를 위해 데이터베이스 기반 체크포인터(예: SqliteSaver 또는 PostgresSaver)를 사용하는 것이 권장됩니다. 이러한 데이터베이스를 사용하면 대화 상태를 보다 안정적으로 저장할 수 있습니다.\\n\\n3. **추가적인 기능**: 메모리 기능을 추가할 때는 대화의 맥락을 유지하기 위한 다양한 전략을 설계할 수 있습니다. 예를 들어, 대화 내용의 요약을 저장하거나, 사용자 세션 데이터를 관리하는 등의 방법이 있습니다.\\n\\n이와 같은 메모리 기능 추가를 통해 LangGraph 기반의 AI 에이전트는 더욱 풍부하고 유용한 사용자 경험을 제공할 수 있습니다. 추가적인 지원이나 질문이 필요하면 언제든지 말씀해 주세요!', additional_kwargs={'refusal': None}, response_metadata={'token_usage': {'completion_tokens': 290, 'prompt_tokens': 2884, 'total_tokens': 3174, 'completion_tokens_details': {'accepted_prediction_tokens': 0, 'audio_tokens': 0, 'reasoning_tokens': 0, 'rejected_prediction_tokens': 0}, 'prompt_tokens_details': {'audio_tokens': 0, 'cached_tokens': 2688}}, 'model_name': 'gpt-4o-mini-2024-07-18', 'system_fingerprint': 'fp_44added55e', 'id': 'chatcmpl-BLOpJaJLL8KW2uMOeCzQDiOlgRQ2o', 'finish_reason': 'stop', 'logprobs': None}, id='run-48ed14f3-d06d-426e-b466-9361f750b770-0', usage_metadata={'input_tokens': 2884, 'output_tokens': 290, 'total_tokens': 3174, 'input_token_details': {'audio': 0, 'cache_read': 2688}, 'output_token_details': {'audio': 0, 'reasoning': 0}})]\n",
      "()\n"
     ]
    }
   ],
   "source": [
    "snapshot = graph.get_state(config)\n",
    "pprint(snapshot.values['messages'])\n",
    "print(snapshot.next)"
   ]
  }
 ],
 "metadata": {
  "kernelspec": {
   "display_name": "langgraph_basic",
   "language": "python",
   "name": "python3"
  },
  "language_info": {
   "codemirror_mode": {
    "name": "ipython",
    "version": 3
   },
   "file_extension": ".py",
   "mimetype": "text/x-python",
   "name": "python",
   "nbconvert_exporter": "python",
   "pygments_lexer": "ipython3",
   "version": "3.12.9"
  }
 },
 "nbformat": 4,
 "nbformat_minor": 5
}
