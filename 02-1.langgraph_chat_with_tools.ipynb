{
 "cells": [
  {
   "cell_type": "code",
   "execution_count": 35,
   "id": "1ed61dd0",
   "metadata": {},
   "outputs": [],
   "source": [
    "from langchain_openai import ChatOpenAI\n",
    "from langchain_core.messages import HumanMessage\n",
    "from langgraph.graph import StateGraph, START, END\n",
    "from langgraph.graph.message import add_messages\n",
    "from typing_extensions import TypedDict\n",
    "from typing import Annotated, List\n",
    "from dotenv import load_dotenv\n",
    "import os"
   ]
  },
  {
   "cell_type": "code",
   "execution_count": 36,
   "id": "18a6068b",
   "metadata": {},
   "outputs": [],
   "source": [
    "load_dotenv()\n",
    "\n",
    "openai_model = os.getenv(\"OPENAI_MODEL\", \"gpt-4o-mini\")"
   ]
  },
  {
   "cell_type": "code",
   "execution_count": 37,
   "id": "9db66574",
   "metadata": {},
   "outputs": [],
   "source": [
    "class State(TypedDict):\n",
    "    messages: Annotated[list, add_messages]"
   ]
  },
  {
   "cell_type": "markdown",
   "id": "c6a7606d",
   "metadata": {},
   "source": [
    "- Langchain에서 지원하는 Search 도구\n",
    "    - https://python.langchain.com/docs/integrations/tools/#search"
   ]
  },
  {
   "cell_type": "code",
   "execution_count": 38,
   "id": "23f7d375",
   "metadata": {},
   "outputs": [
    {
     "data": {
      "text/plain": [
       "[{'title': 'LangGraph로 쉽게 구현하는 RAG 파이프라인: LLM 정확도를 높이는 ...',\n",
       "  'url': 'https://digitalbourgeois.tistory.com/377',\n",
       "  'content': 'LangGraph의 주요 구성 요소 · 노드(Node): 데이터 처리를 담당하는 기본 단위입니다. · 엣지(Edge): 노드 간의 연결을 나타내며, 데이터 흐름을 정의합니다',\n",
       "  'score': 0.86080295},\n",
       " {'title': '[랭체인 코리아 밋업 2024 Q2] 테디노트_초보자도 할 수 있는 고급 RAG',\n",
       "  'url': 'https://medium.com/@yoony1007/%EB%9E%AD%EC%B2%B4%EC%9D%B8-%EC%BD%94%EB%A6%AC%EC%95%84-%EB%B0%8B%EC%97%85-2024-q2-%ED%85%8C%EB%94%94%EB%85%B8%ED%8A%B8-%EC%B4%88%EB%B3%B4%EC%9E%90%EB%8F%84-%ED%95%A0-%EC%88%98-%EC%9E%88%EB%8A%94-%EA%B3%A0%EA%B8%89-rag-%EB%8B%A4%EC%A4%91-%EC%97%90%EC%9D%B4%EC%A0%84%ED%8A%B8%EC%99%80-langgraph-%EC%A0%9C%EC%9E%91-e8bec8adfef4',\n",
       "  'content': '➡️ 고전적인 단방향 구조에서 유연한 흐름(뒤로 가는 or 옆으로 빠지는) 만들 수 있음\\n\\nLangGraph로 구현한 예시\\n\\n✅ 유연한 흐름 가지는 LangGraph 예시\\n\\n✅ Node(노드), Edge(엣지), State(상태 관리) 통해 LLM 활용한 워크폴로우에 순환(Cycle) 연산 기능 추가해 손쉽게 흐름 제어\\n\\n✅ RAG 파이프라인의 세부 단계별 흐름제어가 가능\\n\\n✅ Conditional Edge: 조건부(if, elif, else와 같은..) 흐름 제어\\n\\n✅ Human-in-the-loop: 필요시 중간 개입해 다음 단계 결정\\n\\n✅ Checkpointer: 과거 실행 과정에 대한 “수정” & “리플레이” 기능\\n\\n주요 용어\\n\\n✅ Node(노드): 어떤 작업(task) 수행할지 정의\\n\\n✅ Edge(엣지): 다음으로 실행할 동작 정의\\n\\n✅ State(상태); 현재 상태 값을 저장 및 전달하는데 활용\\n\\n✅ Conditional Edge(조건부 엣지): 조건에 따라 분기 처리 [...] ✅ 사전에 정의된 Query 입력\\n\\n✅ 사전에 정의된 검색 빙법\\n\\n✅ 신뢰하기 어려운 LLM 혹은 Agent\\n\\n✅ 고정된 프롬프트 형식\\n\\n✅ LLM 답변 결과에 대한 문서와의 관련성/신뢰성\\n\\n➡️ 사전에 고정되어야 하는 부분들이 많음\\n\\n문제 정리\\n\\n✅ Document Loader(데이터 로드) -> Answer(답변) RAG 파이프라인이 단방향 구조이기 때문\\n\\n✅ 모든 단계를 1번에 다 잘해야 함\\n\\n✅ 이전 단계로 되돌아가기 어려움\\n\\n해결\\n\\n✅ 흐름을 추가\\n\\nLangGraph 제안\\n\\n✅ 각 세부과정을 노드(Node)라고 정의\\n\\n✅ 이전 노드 > 다음 노드: 엣지(Edge) 연결\\n\\n✅ 조건부 엣지 통해 분기 처리\\n\\n➡️ RAG 파이프라인을 보다 유연하게 설계\\n\\n✅ 평가자 & Query Transform 추가\\n\\n✅ 평가자 & Query Transform 추가\\n\\n✅ 추가 검색기 통해 문맥(context) 보강\\n\\n✅ 문서- 답변 간 관련성 여부 판단하는 평가자2 추가해 검증 [...] ✅ GPT 말고 Claude or Local 모델 사용해서 답변 다시 생성\\n\\n✅ 대단히 복잡한 알고리즘이 추가되는게 아니라 Edge만 연결해줬더니 알아서 동작\\n\\n노드(Node) & 엣지(Edge)\\n\\n노드(Node)\\n\\n✅ 함수로 정의\\n\\n✅ 입력인자: 상태(State) 객체\\n\\n✅ 반환(return)\\n\\n✅ 중간 동작 위한 코드 구현\\n\\nGraph 생성 후 노드 추가\\n\\n✅ 이전에 정의한 함수를 Graph에 추가\\n\\n✅ add_node(“노드이름”, 함수)\\n\\n엣지(Edge)\\n\\n✅ 노드에서 노드간의 연결\\n\\n✅ add_edge(“노드이름”, “노드이름”)\\n\\n조건부 엣지(Conditional Edge)\\n\\n✅ 노드에 조건부 엣지 추가해 분기 수행할 수 있음\\n\\n✅ add_conditional_edges(“노드이름”, 조건부 판단 함수, dict로 다음 단계 결정)\\n\\n흐름\\n\\n✅ “relevance_check” 노드에서 나온 결과를 is_relevant 함수에 입력',\n",
       "  'score': 0.8036831}]"
      ]
     },
     "execution_count": 38,
     "metadata": {},
     "output_type": "execute_result"
    }
   ],
   "source": [
    "from langchain_community.tools.tavily_search import TavilySearchResults\n",
    "\n",
    "tool = TavilySearchResults(max_results=2)\n",
    "tool.invoke(\"LangGraph에서 '노드'란 무엇인가요?\")"
   ]
  },
  {
   "cell_type": "code",
   "execution_count": 39,
   "id": "074be0fa",
   "metadata": {},
   "outputs": [
    {
     "name": "stdout",
     "output_type": "stream",
     "text": [
      "Tool name: tavily_search_results_json\n",
      "Tool description: A search engine optimized for comprehensive, accurate, and trusted results. Useful for when you need to answer questions about current events. Input should be a search query.\n",
      "Tool args: {'query': {'description': 'search query to look up', 'title': 'Query', 'type': 'string'}}\n"
     ]
    }
   ],
   "source": [
    "print(f\"Tool name: {tool.name}\")\n",
    "print(f\"Tool description: {tool.description}\")\n",
    "print(f\"Tool args: {tool.args}\")"
   ]
  },
  {
   "cell_type": "code",
   "execution_count": 40,
   "id": "dbfb619a",
   "metadata": {},
   "outputs": [],
   "source": [
    "llm = ChatOpenAI(model=openai_model)\n",
    "tools = [tool]\n",
    "llm_with_tools = llm.bind_tools(tools)\n"
   ]
  },
  {
   "cell_type": "code",
   "execution_count": 41,
   "id": "ecceb66d",
   "metadata": {},
   "outputs": [],
   "source": [
    "def chatbot(state: State):\n",
    "    response = llm_with_tools.invoke(state[\"messages\"])\n",
    "    return {\"messages\": [response]}"
   ]
  },
  {
   "cell_type": "code",
   "execution_count": 42,
   "id": "ab53fe36",
   "metadata": {},
   "outputs": [],
   "source": [
    "from langchain_core.messages import ToolMessage\n",
    "import json\n",
    "\n",
    "class ToolNode:\n",
    "    def __init__(self, tools):\n",
    "        self.tools_by_name = {tool.name: tool for tool in tools}\n",
    "\n",
    "    #__call__ 메서드는 Python에서 객체를 함수처럼 호출 가능하게 만드는 특별한 메서드입니다.\n",
    "    def __call__(self, inputs): \n",
    "        #왈러스 연산자의 기능\n",
    "        #이 연산자는 표현식 내에서 변수에 값을 할당하고 그 값을 동시에 사용할 수 있게 해줍니다. \n",
    "        # inputs.get(\"messages\", []) 값을 messages 변수에 할당합니다.\n",
    "        # 동시에 이 값을 if 조건으로 평가합니다.\n",
    "        if messages := inputs.get(\"messages\", []):\n",
    "            message = messages[-1]\n",
    "        else:\n",
    "            raise ValueError(\"No messages found in inputs.\")\n",
    "        \n",
    "        outputs = []\n",
    "        for tool_call in message.tool_calls:\n",
    "            tool_result = self.tools_by_name[tool_call['name']].invoke(tool_call['args'])\n",
    "            tool_message = ToolMessage(\n",
    "                content=json.dumps(tool_result), #Python 객체(주로 딕셔너리나 리스트)를 JSON 형식의 문자열로 변환\n",
    "                name=tool_call['name'],\n",
    "                tool_call_id=tool_call['id'],\n",
    "            )\n",
    "            outputs.append(tool_message)\n",
    "\n",
    "        return {\"messages\": outputs}\n",
    "    \n",
    "tool_node = ToolNode(tools)"
   ]
  },
  {
   "cell_type": "code",
   "execution_count": 43,
   "id": "40012ed5",
   "metadata": {},
   "outputs": [],
   "source": [
    "def tools_condition(state):\n",
    "    if isinstance(state, list):\n",
    "        ai_message = state[-1]\n",
    "    elif messages := state.get(\"messages\", []):\n",
    "        ai_message = messages[-1]\n",
    "    else:\n",
    "        raise ValueError(f\"No messages found in input state to tool_edge: {state}\")\n",
    "    \n",
    "    if hasattr(ai_message, \"tool_calls\") and len(ai_message.tool_calls) > 0:\n",
    "        return 'tools'\n",
    "    return END"
   ]
  },
  {
   "cell_type": "code",
   "execution_count": 44,
   "id": "05255414",
   "metadata": {},
   "outputs": [],
   "source": [
    "workflow = StateGraph(State)\n",
    "\n",
    "workflow.add_node(\"chatbot\", chatbot)\n",
    "workflow.add_node(\"tools\", tool_node)\n",
    "\n",
    "\n",
    "workflow.add_edge(START, \"chatbot\")\n",
    "\n",
    "#  워크플로우 그래프에 조건부 엣지(conditional edge)를 추가\n",
    "workflow.add_conditional_edges(\"chatbot\", tools_condition, {\"tools\": \"tools\", END: END})\n",
    "# {\"tools\": \"tools\", END: END}는 라우팅 딕셔너리(routing dictionary)로, 조건 함수의 결과에 따라 워크플로우가 어떤 노드로 진행할지를 결정합니다:\n",
    "# 키(key): 조건 함수(tools_condition)에서 반환할 수 있는 값들입니다.\n",
    "# 값(value): 해당 조건 값이 반환될 때 이동할 대상 노드입니다.\n",
    "workflow.add_edge(\"tools\", \"chatbot\")\n",
    "\n",
    "graph = workflow.compile()"
   ]
  },
  {
   "cell_type": "code",
   "execution_count": 45,
   "id": "5997b401",
   "metadata": {},
   "outputs": [
    {
     "data": {
      "image/png": "[encoded data removed]",
      "text/plain": [
       "<IPython.core.display.Image object>"
      ]
     },
     "metadata": {},
     "output_type": "display_data"
    }
   ],
   "source": [
    "from IPython.display import Image, display\n",
    "\n",
    "display(Image(graph.get_graph().draw_mermaid_png()))"
   ]
  },
  {
   "cell_type": "code",
   "execution_count": 46,
   "id": "3568b136",
   "metadata": {},
   "outputs": [
    {
     "name": "stdout",
     "output_type": "stream",
     "text": [
      "LangGraph에서 '노드'는 그래프 구조의 기본 단위로, 일반적으로 특정 정보나 데이터를 표현하는 점입니다. 각 노드는 다른 노드와 연결되어 있으며, 이 연결은 데이터 간의 관계를 나타냅니다. LangGraph는 주로 언어 모델이나 데이터 흐름을 구성하는 데 사용되며, 노드는 이 프로세스를 지원하는 요소로 работ합니다.\n",
      "\n",
      "더 자세한 내용을 알고 싶다면, 아래 링크에서 확인할 수 있습니다:\n",
      "- [LangGraph 개념과 활용](https://brunch.co.kr/@@hqFh/132)\n",
      "- [AI Agent 개발](https://blog.kyobodts.co.kr/2025/02/28/ai-agent-%EA%B0%9C%EB%B0%9C%EC%9D%98-%ED%95%B5%EC%8B%AC-rag%EC%99%80-langchain-langgraph-%EB%B9%84%EA%B5%90-%EB%B6%84%EC%84%9D/)\n"
     ]
    }
   ],
   "source": [
    "user_input = \"LangGraph에서 '노드'란 무엇인가요?\"\n",
    "state = {\"messages\": [HumanMessage(content=user_input)]}\n",
    "response = graph.invoke(state)\n",
    "\n",
    "print(response[\"messages\"][-1].content)"
   ]
  }
 ],
 "metadata": {
  "kernelspec": {
   "display_name": "langgraph_basic",
   "language": "python",
   "name": "python3"
  },
  "language_info": {
   "codemirror_mode": {
    "name": "ipython",
    "version": 3
   },
   "file_extension": ".py",
   "mimetype": "text/x-python",
   "name": "python",
   "nbconvert_exporter": "python",
   "pygments_lexer": "ipython3",
   "version": "3.12.9"
  }
 },
 "nbformat": 4,
 "nbformat_minor": 5
}
